{
 "cells": [
  {
   "cell_type": "code",
   "execution_count": 1,
   "id": "primary-charter",
   "metadata": {
    "ExecuteTime": {
     "end_time": "2021-05-04T22:00:32.707943Z",
     "start_time": "2021-05-04T22:00:32.693926Z"
    }
   },
   "outputs": [
    {
     "data": {
      "text/plain": [
       "'\\nCreated by Joseph Edradan\\nGithub: https://github.com/josephedradan\\n\\nDate created: 4/6/2021\\n\\nPurpose:\\n\\nDetails:\\n\\nDescription:\\n\\nNotes:\\n    Test word2vec using gensim\\n\\nIMPORTANT NOTES:\\n\\nExplanation:\\n\\n\\nReference:\\n    Word2Vec with Gensim - Python\\n        https://www.youtube.com/watch?v=Z1VsHYcNXDI\\n\\n    models.word2vec – Word2vec embeddings\\n        https://radimrehurek.com/gensim/models/word2vec.html#\\n'"
      ]
     },
     "execution_count": 1,
     "metadata": {},
     "output_type": "execute_result"
    }
   ],
   "source": [
    "\"\"\"\n",
    "Created by Joseph Edradan\n",
    "Github: https://github.com/josephedradan\n",
    "\n",
    "Date created: 4/6/2021\n",
    "\n",
    "Purpose:\n",
    "\n",
    "Details:\n",
    "\n",
    "Description:\n",
    "\n",
    "Notes:\n",
    "    Test word2vec using gensim\n",
    "\n",
    "IMPORTANT NOTES:\n",
    "\n",
    "Explanation:\n",
    "\n",
    "\n",
    "Reference:\n",
    "    Word2Vec with Gensim - Python\n",
    "        https://www.youtube.com/watch?v=Z1VsHYcNXDI\n",
    "\n",
    "    models.word2vec – Word2vec embeddings\n",
    "        https://radimrehurek.com/gensim/models/word2vec.html#\n",
    "\"\"\""
   ]
  },
  {
   "cell_type": "code",
   "execution_count": 2,
   "id": "human-permit",
   "metadata": {
    "ExecuteTime": {
     "end_time": "2021-05-04T22:00:34.946306Z",
     "start_time": "2021-05-04T22:00:32.709943Z"
    }
   },
   "outputs": [
    {
     "name": "stdout",
     "output_type": "stream",
     "text": [
      "H:\\Programming\\python\\Projects_School\\San_Francisco_State_University\\CSC_0620_01_Natural_Language_Technologies_Spring_2021\\automated_question_answering_system\n"
     ]
    }
   ],
   "source": [
    "from typing import Generator\n",
    "import nltk\n",
    "import json\n",
    "import os\n",
    "\n",
    "from gensim.test.utils import common_texts\n",
    "from gensim.models import Word2Vec\n",
    "import pandas as pd\n",
    "import numpy as np\n",
    "\n",
    "from handler_squad_2 import get_gen_text_train, get_gen_text_test"
   ]
  },
  {
   "cell_type": "code",
   "execution_count": 3,
   "id": "static-retrieval",
   "metadata": {
    "ExecuteTime": {
     "end_time": "2021-05-04T22:00:34.962308Z",
     "start_time": "2021-05-04T22:00:34.947305Z"
    }
   },
   "outputs": [],
   "source": [
    "def get_list_tokenize_string_nltk(iterable_given) -> Generator:\n",
    "    for words in iterable_given:\n",
    "        yield nltk.word_tokenize(words)"
   ]
  },
  {
   "cell_type": "code",
   "execution_count": 4,
   "id": "prompt-fireplace",
   "metadata": {
    "ExecuteTime": {
     "end_time": "2021-05-04T22:00:58.036399Z",
     "start_time": "2021-05-04T22:00:34.964308Z"
    }
   },
   "outputs": [],
   "source": [
    "list_token = list(get_list_tokenize_string_nltk(get_gen_text_train()))"
   ]
  },
  {
   "cell_type": "code",
   "execution_count": 5,
   "id": "explicit-burns",
   "metadata": {
    "ExecuteTime": {
     "end_time": "2021-05-04T22:01:06.088876Z",
     "start_time": "2021-05-04T22:00:58.037400Z"
    }
   },
   "outputs": [
    {
     "data": {
      "text/plain": [
       "[('motion', 0.9181298017501831),\n",
       " ('user', 0.9144542813301086),\n",
       " ('error', 0.9110193848609924),\n",
       " ('approximation', 0.9022706151008606),\n",
       " ('referee', 0.9012723565101624),\n",
       " ('sound', 0.9010735750198364),\n",
       " ('wrestler', 0.9001111388206482),\n",
       " ('code', 0.9000092148780823),\n",
       " ('device', 0.8995054960250854),\n",
       " ('signal', 0.8969161510467529)]"
      ]
     },
     "execution_count": 5,
     "metadata": {},
     "output_type": "execute_result"
    }
   ],
   "source": [
    "# Testing word2vec\n",
    "model_word2vec = Word2Vec(list_token, min_count=1, vector_size=32)\n",
    "model_word2vec.wv.most_similar(\"test\")"
   ]
  },
  {
   "cell_type": "code",
   "execution_count": 6,
   "id": "special-puppy",
   "metadata": {
    "ExecuteTime": {
     "end_time": "2021-05-04T22:01:06.103876Z",
     "start_time": "2021-05-04T22:01:06.089876Z"
    }
   },
   "outputs": [
    {
     "data": {
      "text/plain": [
       "[('Barack', 0.9768821597099304),\n",
       " ('Reagan', 0.9352225661277771),\n",
       " ('Nixon', 0.9311635494232178),\n",
       " ('MacArthur', 0.9268817901611328),\n",
       " ('Ronald', 0.9199182987213135),\n",
       " ('Bush', 0.9160646796226501),\n",
       " ('Michelle', 0.9073700904846191),\n",
       " ('Truman', 0.9060646295547485),\n",
       " ('Vice', 0.9001820087432861),\n",
       " ('Koch', 0.8971026539802551)]"
      ]
     },
     "execution_count": 6,
     "metadata": {},
     "output_type": "execute_result"
    }
   ],
   "source": [
    "model_word2vec.wv.most_similar(\"Obama\")"
   ]
  },
  {
   "cell_type": "code",
   "execution_count": 7,
   "id": "dangerous-milan",
   "metadata": {
    "ExecuteTime": {
     "end_time": "2021-05-04T22:01:06.118876Z",
     "start_time": "2021-05-04T22:01:06.105876Z"
    }
   },
   "outputs": [
    {
     "data": {
      "text/plain": [
       "[('room', 0.9483568072319031),\n",
       " ('receiver', 0.9453217387199402),\n",
       " ('plane', 0.9305257797241211),\n",
       " ('capability', 0.9286497235298157),\n",
       " ('filament', 0.9283531308174133),\n",
       " ('input', 0.9265342950820923),\n",
       " ('platform', 0.9261828660964966),\n",
       " ('clock', 0.9252347350120544),\n",
       " ('battery', 0.9230486750602722),\n",
       " ('rotor', 0.9216424226760864)]"
      ]
     },
     "execution_count": 7,
     "metadata": {},
     "output_type": "execute_result"
    }
   ],
   "source": [
    "model_word2vec.wv.most_similar(\"car\")"
   ]
  }
 ],
 "metadata": {
  "kernelspec": {
   "display_name": "Python 3.8.5 64-bit Anaconda (Only works with Anaconda's Jupyter)",
   "language": "python",
   "name": "python_3.8.5_64-bit_anaconda"
  },
  "language_info": {
   "codemirror_mode": {
    "name": "ipython",
    "version": 3
   },
   "file_extension": ".py",
   "mimetype": "text/x-python",
   "name": "python",
   "nbconvert_exporter": "python",
   "pygments_lexer": "ipython3",
   "version": "3.8.8"
  },
  "varInspector": {
   "cols": {
    "lenName": 16,
    "lenType": 16,
    "lenVar": 40
   },
   "kernels_config": {
    "python": {
     "delete_cmd_postfix": "",
     "delete_cmd_prefix": "del ",
     "library": "var_list.py",
     "varRefreshCmd": "print(var_dic_list())"
    },
    "r": {
     "delete_cmd_postfix": ") ",
     "delete_cmd_prefix": "rm(",
     "library": "var_list.r",
     "varRefreshCmd": "cat(var_dic_list()) "
    }
   },
   "types_to_exclude": [
    "module",
    "function",
    "builtin_function_or_method",
    "instance",
    "_Feature"
   ],
   "window_display": false
  }
 },
 "nbformat": 4,
 "nbformat_minor": 5
}
