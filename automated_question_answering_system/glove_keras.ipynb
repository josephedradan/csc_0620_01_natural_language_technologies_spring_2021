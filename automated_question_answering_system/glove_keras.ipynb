{
 "cells": [
  {
   "cell_type": "code",
   "execution_count": 1,
   "id": "duplicate-europe",
   "metadata": {
    "ExecuteTime": {
     "end_time": "2021-04-07T04:55:43.886339Z",
     "start_time": "2021-04-07T04:55:43.871339Z"
    }
   },
   "outputs": [
    {
     "data": {
      "text/plain": [
       "'\\nCreated by Joseph Edradan\\nGithub: https://github.com/josephedradan\\n\\nDate created: 4/6/2021\\n\\nPurpose:\\n\\nDetails:\\n\\nDescription:\\n\\nNotes:\\n\\nIMPORTANT NOTES:\\n\\nExplanation:\\n\\nReference:\\n    ML Classification using GloVe Vectors & Keras ❌NLP Project in Python with GloVe, TensorFlow & Keras\\n        https://www.youtube.com/watch?v=Qsmn9pL5kcU\\n'"
      ]
     },
     "execution_count": 1,
     "metadata": {},
     "output_type": "execute_result"
    }
   ],
   "source": [
    "\"\"\"\n",
    "Created by Joseph Edradan\n",
    "Github: https://github.com/josephedradan\n",
    "\n",
    "Date created: 4/6/2021\n",
    "\n",
    "Purpose:\n",
    "\n",
    "Details:\n",
    "\n",
    "Description:\n",
    "\n",
    "Notes:\n",
    "\n",
    "IMPORTANT NOTES:\n",
    "\n",
    "Explanation:\n",
    "\n",
    "Reference:\n",
    "    ML Classification using GloVe Vectors & Keras ❌NLP Project in Python with GloVe, TensorFlow & Keras\n",
    "        https://www.youtube.com/watch?v=Qsmn9pL5kcU\n",
    "\"\"\""
   ]
  },
  {
   "cell_type": "code",
   "execution_count": null,
   "id": "junior-marshall",
   "metadata": {},
   "outputs": [],
   "source": []
  }
 ],
 "metadata": {
  "kernelspec": {
   "display_name": "Python 3.8.5 64-bit Anaconda (Only works with Anaconda's Jupyter)",
   "language": "python",
   "name": "python_3.8.5_64-bit_anaconda"
  },
  "language_info": {
   "codemirror_mode": {
    "name": "ipython",
    "version": 3
   },
   "file_extension": ".py",
   "mimetype": "text/x-python",
   "name": "python",
   "nbconvert_exporter": "python",
   "pygments_lexer": "ipython3",
   "version": "3.8.5"
  },
  "varInspector": {
   "cols": {
    "lenName": 16,
    "lenType": 16,
    "lenVar": 40
   },
   "kernels_config": {
    "python": {
     "delete_cmd_postfix": "",
     "delete_cmd_prefix": "del ",
     "library": "var_list.py",
     "varRefreshCmd": "print(var_dic_list())"
    },
    "r": {
     "delete_cmd_postfix": ") ",
     "delete_cmd_prefix": "rm(",
     "library": "var_list.r",
     "varRefreshCmd": "cat(var_dic_list()) "
    }
   },
   "types_to_exclude": [
    "module",
    "function",
    "builtin_function_or_method",
    "instance",
    "_Feature"
   ],
   "window_display": false
  }
 },
 "nbformat": 4,
 "nbformat_minor": 5
}
