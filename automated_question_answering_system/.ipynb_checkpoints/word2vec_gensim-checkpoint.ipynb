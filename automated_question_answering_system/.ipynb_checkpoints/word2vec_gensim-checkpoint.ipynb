{
 "cells": [
  {
   "cell_type": "code",
   "execution_count": 1,
   "id": "primary-charter",
   "metadata": {
    "ExecuteTime": {
     "end_time": "2021-05-04T19:11:31.307798Z",
     "start_time": "2021-05-04T19:11:31.294799Z"
    }
   },
   "outputs": [
    {
     "data": {
      "text/plain": [
       "'\\nCreated by Joseph Edradan\\nGithub: https://github.com/josephedradan\\n\\nDate created: 4/6/2021\\n\\nPurpose:\\n\\nDetails:\\n\\nDescription:\\n\\nNotes:\\n    Test word2vec using gensim\\n\\nIMPORTANT NOTES:\\n\\nExplanation:\\n\\n\\nReference:\\n    Word2Vec with Gensim - Python\\n        https://www.youtube.com/watch?v=Z1VsHYcNXDI\\n\\n    models.word2vec – Word2vec embeddings\\n        https://radimrehurek.com/gensim/models/word2vec.html#\\n'"
      ]
     },
     "execution_count": 1,
     "metadata": {},
     "output_type": "execute_result"
    }
   ],
   "source": [
    "\"\"\"\n",
    "Created by Joseph Edradan\n",
    "Github: https://github.com/josephedradan\n",
    "\n",
    "Date created: 4/6/2021\n",
    "\n",
    "Purpose:\n",
    "\n",
    "Details:\n",
    "\n",
    "Description:\n",
    "\n",
    "Notes:\n",
    "    Test word2vec using gensim\n",
    "\n",
    "IMPORTANT NOTES:\n",
    "\n",
    "Explanation:\n",
    "\n",
    "\n",
    "Reference:\n",
    "    Word2Vec with Gensim - Python\n",
    "        https://www.youtube.com/watch?v=Z1VsHYcNXDI\n",
    "\n",
    "    models.word2vec – Word2vec embeddings\n",
    "        https://radimrehurek.com/gensim/models/word2vec.html#\n",
    "\"\"\""
   ]
  },
  {
   "cell_type": "code",
   "execution_count": 2,
   "id": "human-permit",
   "metadata": {
    "ExecuteTime": {
     "end_time": "2021-05-04T19:11:33.492534Z",
     "start_time": "2021-05-04T19:11:31.309802Z"
    }
   },
   "outputs": [
    {
     "name": "stdout",
     "output_type": "stream",
     "text": [
      "H:\\Programming\\python\\Projects_School\\San_Francisco_State_University\\CSC_0620_01_Natural_Language_Technologies_Spring_2021\\automated_question_answering_system\n"
     ]
    }
   ],
   "source": [
    "from typing import Generator\n",
    "import nltk\n",
    "import json\n",
    "import os\n",
    "\n",
    "from gensim.test.utils import common_texts\n",
    "from gensim.models import Word2Vec\n",
    "import pandas as pd\n",
    "import numpy as np\n",
    "\n",
    "from handler_squad_2 import get_gen_text_train, get_gen_text_test"
   ]
  },
  {
   "cell_type": "code",
   "execution_count": 3,
   "id": "static-retrieval",
   "metadata": {
    "ExecuteTime": {
     "end_time": "2021-05-04T19:11:33.507534Z",
     "start_time": "2021-05-04T19:11:33.494535Z"
    }
   },
   "outputs": [],
   "source": [
    "def get_list_tokenize_string_nltk(iterable_given) -> Generator:\n",
    "    for words in iterable_given:\n",
    "        yield nltk.word_tokenize(words)"
   ]
  },
  {
   "cell_type": "code",
   "execution_count": 4,
   "id": "prompt-fireplace",
   "metadata": {
    "ExecuteTime": {
     "end_time": "2021-05-04T19:11:56.520330Z",
     "start_time": "2021-05-04T19:11:33.509537Z"
    }
   },
   "outputs": [],
   "source": [
    "list_token = list(get_list_tokenize_string_nltk(get_gen_text_train()))"
   ]
  },
  {
   "cell_type": "code",
   "execution_count": 5,
   "id": "explicit-burns",
   "metadata": {
    "ExecuteTime": {
     "end_time": "2021-05-04T19:11:56.910841Z",
     "start_time": "2021-05-04T19:11:56.521332Z"
    }
   },
   "outputs": [
    {
     "ename": "TypeError",
     "evalue": "__init__() got an unexpected keyword argument 'size'",
     "output_type": "error",
     "traceback": [
      "\u001b[1;31m---------------------------------------------------------------------------\u001b[0m",
      "\u001b[1;31mTypeError\u001b[0m                                 Traceback (most recent call last)",
      "\u001b[1;32m<ipython-input-5-c15c09329bc6>\u001b[0m in \u001b[0;36m<module>\u001b[1;34m\u001b[0m\n\u001b[0;32m      1\u001b[0m \u001b[1;31m# Testing word2vec\u001b[0m\u001b[1;33m\u001b[0m\u001b[1;33m\u001b[0m\u001b[1;33m\u001b[0m\u001b[0m\n\u001b[1;32m----> 2\u001b[1;33m \u001b[0mmodel_word2vec\u001b[0m \u001b[1;33m=\u001b[0m \u001b[0mWord2Vec\u001b[0m\u001b[1;33m(\u001b[0m\u001b[0mlist_token\u001b[0m\u001b[1;33m,\u001b[0m \u001b[0mmin_count\u001b[0m\u001b[1;33m=\u001b[0m\u001b[1;36m1\u001b[0m\u001b[1;33m,\u001b[0m \u001b[0msize\u001b[0m\u001b[1;33m=\u001b[0m\u001b[1;36m32\u001b[0m\u001b[1;33m)\u001b[0m\u001b[1;33m\u001b[0m\u001b[1;33m\u001b[0m\u001b[0m\n\u001b[0m\u001b[0;32m      3\u001b[0m \u001b[0mmodel_word2vec\u001b[0m\u001b[1;33m.\u001b[0m\u001b[0mwv\u001b[0m\u001b[1;33m.\u001b[0m\u001b[0mmost_similar\u001b[0m\u001b[1;33m(\u001b[0m\u001b[1;34m\"test\"\u001b[0m\u001b[1;33m)\u001b[0m\u001b[1;33m\u001b[0m\u001b[1;33m\u001b[0m\u001b[0m\n",
      "\u001b[1;31mTypeError\u001b[0m: __init__() got an unexpected keyword argument 'size'"
     ]
    }
   ],
   "source": [
    "# Testing word2vec\n",
    "model_word2vec = Word2Vec(list_token, min_count=1, vector_size=32)\n",
    "model_word2vec.wv.most_similar(\"test\")"
   ]
  },
  {
   "cell_type": "code",
   "execution_count": null,
   "id": "special-puppy",
   "metadata": {
    "ExecuteTime": {
     "end_time": "2021-05-04T19:11:56.913842Z",
     "start_time": "2021-05-04T19:11:31.266Z"
    }
   },
   "outputs": [],
   "source": [
    "model_word2vec.wv.most_similar(\"obama\")"
   ]
  },
  {
   "cell_type": "code",
   "execution_count": null,
   "id": "dangerous-milan",
   "metadata": {
    "ExecuteTime": {
     "end_time": "2021-05-04T19:11:56.914841Z",
     "start_time": "2021-05-04T19:11:31.267Z"
    }
   },
   "outputs": [],
   "source": [
    "model_word2vec.wv.most_similar(\"car\")"
   ]
  }
 ],
 "metadata": {
  "kernelspec": {
   "display_name": "Python 3.8.5 64-bit Anaconda (Only works with Anaconda's Jupyter)",
   "language": "python",
   "name": "python_3.8.5_64-bit_anaconda"
  },
  "language_info": {
   "codemirror_mode": {
    "name": "ipython",
    "version": 3
   },
   "file_extension": ".py",
   "mimetype": "text/x-python",
   "name": "python",
   "nbconvert_exporter": "python",
   "pygments_lexer": "ipython3",
   "version": "3.8.8"
  },
  "varInspector": {
   "cols": {
    "lenName": 16,
    "lenType": 16,
    "lenVar": 40
   },
   "kernels_config": {
    "python": {
     "delete_cmd_postfix": "",
     "delete_cmd_prefix": "del ",
     "library": "var_list.py",
     "varRefreshCmd": "print(var_dic_list())"
    },
    "r": {
     "delete_cmd_postfix": ") ",
     "delete_cmd_prefix": "rm(",
     "library": "var_list.r",
     "varRefreshCmd": "cat(var_dic_list()) "
    }
   },
   "types_to_exclude": [
    "module",
    "function",
    "builtin_function_or_method",
    "instance",
    "_Feature"
   ],
   "window_display": false
  }
 },
 "nbformat": 4,
 "nbformat_minor": 5
}
