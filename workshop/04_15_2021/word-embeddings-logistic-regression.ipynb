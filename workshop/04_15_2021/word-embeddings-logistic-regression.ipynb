{
 "cells": [
  {
   "cell_type": "markdown",
   "metadata": {
    "pycharm": {
     "name": "#%% md\n"
    }
   },
   "source": [
    "## CSC 0620-01 Natural Language Technologies Spring 2021\n",
    "\n",
    "Joseph Edradan <br>\n",
    "04/20/2021 <br>\n",
    "Source: https://www.kaggle.com/kstathou/word-embeddings-logistic-regression <br>\n",
    "\n",
    "#### Submission for hands-on workshop on April 15th\n",
    "\n",
    "<ol>\n",
    "  <li> Read and understand this article: <a href=\"https://towardsdatascience.com/a-beginners-guide-to-word-embedding-with-gensim-word2vec-model-5970fa56cc92\">\"A Beginner’s Guide to Word Embedding with Gensim Word2Vec Model\"</li>\n",
    "  <li>Create a copy of the following Jupyter notebook (or export it as python program):<a href=\"https://www.kaggle.com/kstathou/word-embeddings-logistic-regression\">https://www.kaggle.com/kstathou/word-embeddings-logistic-regression</a> In the new notebook (or program) add a detailed description in your own words of what is happening in each code block. \n",
    "</li>\n",
    "</ol>"
   ]
  },
  {
   "cell_type": "code",
   "execution_count": 1,
   "metadata": {
    "ExecuteTime": {
     "end_time": "2021-04-21T05:18:25.752750Z",
     "start_time": "2021-04-21T05:18:23.997917Z"
    },
    "_cell_guid": "b1076dfc-b9ad-4769-8c92-a6c4dae69d19",
    "_uuid": "8f2839f25d086af736a60e9eeb907d3b93b6e0e5"
   },
   "outputs": [
    {
     "name": "stdout",
     "output_type": "stream",
     "text": [
      "['.ipynb_checkpoints', 'clf_output.csv', 'input', 'whats-cooking-kernels-only.zip', 'word-embeddings-logistic-regression.ipynb']\n"
     ]
    }
   ],
   "source": [
    "import os\n",
    "import gensim\n",
    "import numpy as np\n",
    "import pandas as pd\n",
    "import matplotlib.pyplot as plt\n",
    "import matplotlib.gridspec as gridspec\n",
    "from sklearn.preprocessing import LabelEncoder\n",
    "from sklearn.linear_model import LogisticRegression\n",
    "\n",
    "import warnings\n",
    "# Ignore all warning\n",
    "# warnings.filterwarnings('ignore')\n",
    "\n",
    "# Print current dir\n",
    "print(os.listdir(\".\"))\n",
    "\n",
    "# Magic commadn for inline matplotlib plots\n",
    "%matplotlib inline"
   ]
  },
  {
   "cell_type": "code",
   "execution_count": 2,
   "metadata": {
    "ExecuteTime": {
     "end_time": "2021-04-21T05:18:26.036452Z",
     "start_time": "2021-04-21T05:18:25.753748Z"
    },
    "_uuid": "ceb8a1a50d95557c6c7ac9eae7c6c11596fa88a9"
   },
   "outputs": [],
   "source": [
    "\"\"\"\n",
    "Make pandas DataFrames of the test and training json files\n",
    "\n",
    "\"\"\"\n",
    "data = pd.read_json('./input/train.json')\n",
    "test = pd.read_json('./input/test.json')"
   ]
  },
  {
   "cell_type": "code",
   "execution_count": 3,
   "metadata": {
    "ExecuteTime": {
     "end_time": "2021-04-21T05:18:26.052448Z",
     "start_time": "2021-04-21T05:18:26.037452Z"
    },
    "_cell_guid": "79c7e3d0-c299-4dcb-8224-4455121ee9b0",
    "_uuid": "d629ff2d2480ee46fbb7e2d37f6b5fab8052498a",
    "scrolled": false
   },
   "outputs": [
    {
     "name": "stdout",
     "output_type": "stream",
     "text": [
      "Training data shape: (39774, 3)\n",
      "Test data shape: (9944, 2)\n"
     ]
    }
   ],
   "source": [
    "\"\"\"\n",
    "Print the (rows, columns) of the json files\n",
    "\"\"\"\n",
    "print('Training data shape: {}'.format(data.shape))\n",
    "print('Test data shape: {}'.format(test.shape))"
   ]
  },
  {
   "cell_type": "code",
   "execution_count": 4,
   "metadata": {
    "ExecuteTime": {
     "end_time": "2021-04-21T05:18:26.067448Z",
     "start_time": "2021-04-21T05:18:26.053450Z"
    }
   },
   "outputs": [
    {
     "data": {
      "text/html": [
       "<div>\n",
       "<style scoped>\n",
       "    .dataframe tbody tr th:only-of-type {\n",
       "        vertical-align: middle;\n",
       "    }\n",
       "\n",
       "    .dataframe tbody tr th {\n",
       "        vertical-align: top;\n",
       "    }\n",
       "\n",
       "    .dataframe thead th {\n",
       "        text-align: right;\n",
       "    }\n",
       "</style>\n",
       "<table border=\"1\" class=\"dataframe\">\n",
       "  <thead>\n",
       "    <tr style=\"text-align: right;\">\n",
       "      <th></th>\n",
       "      <th>id</th>\n",
       "      <th>cuisine</th>\n",
       "      <th>ingredients</th>\n",
       "    </tr>\n",
       "  </thead>\n",
       "  <tbody>\n",
       "    <tr>\n",
       "      <th>0</th>\n",
       "      <td>10259</td>\n",
       "      <td>greek</td>\n",
       "      <td>[romaine lettuce, black olives, grape tomatoes...</td>\n",
       "    </tr>\n",
       "    <tr>\n",
       "      <th>1</th>\n",
       "      <td>25693</td>\n",
       "      <td>southern_us</td>\n",
       "      <td>[plain flour, ground pepper, salt, tomatoes, g...</td>\n",
       "    </tr>\n",
       "    <tr>\n",
       "      <th>2</th>\n",
       "      <td>20130</td>\n",
       "      <td>filipino</td>\n",
       "      <td>[eggs, pepper, salt, mayonaise, cooking oil, g...</td>\n",
       "    </tr>\n",
       "    <tr>\n",
       "      <th>3</th>\n",
       "      <td>22213</td>\n",
       "      <td>indian</td>\n",
       "      <td>[water, vegetable oil, wheat, salt]</td>\n",
       "    </tr>\n",
       "    <tr>\n",
       "      <th>4</th>\n",
       "      <td>13162</td>\n",
       "      <td>indian</td>\n",
       "      <td>[black pepper, shallots, cornflour, cayenne pe...</td>\n",
       "    </tr>\n",
       "  </tbody>\n",
       "</table>\n",
       "</div>"
      ],
      "text/plain": [
       "      id      cuisine                                        ingredients\n",
       "0  10259        greek  [romaine lettuce, black olives, grape tomatoes...\n",
       "1  25693  southern_us  [plain flour, ground pepper, salt, tomatoes, g...\n",
       "2  20130     filipino  [eggs, pepper, salt, mayonaise, cooking oil, g...\n",
       "3  22213       indian                [water, vegetable oil, wheat, salt]\n",
       "4  13162       indian  [black pepper, shallots, cornflour, cayenne pe..."
      ]
     },
     "execution_count": 4,
     "metadata": {},
     "output_type": "execute_result"
    }
   ],
   "source": [
    "# Print first 5 of data\n",
    "data.head()"
   ]
  },
  {
   "cell_type": "code",
   "execution_count": 5,
   "metadata": {
    "ExecuteTime": {
     "end_time": "2021-04-21T05:18:26.083448Z",
     "start_time": "2021-04-21T05:18:26.068448Z"
    }
   },
   "outputs": [
    {
     "data": {
      "text/html": [
       "<div>\n",
       "<style scoped>\n",
       "    .dataframe tbody tr th:only-of-type {\n",
       "        vertical-align: middle;\n",
       "    }\n",
       "\n",
       "    .dataframe tbody tr th {\n",
       "        vertical-align: top;\n",
       "    }\n",
       "\n",
       "    .dataframe thead th {\n",
       "        text-align: right;\n",
       "    }\n",
       "</style>\n",
       "<table border=\"1\" class=\"dataframe\">\n",
       "  <thead>\n",
       "    <tr style=\"text-align: right;\">\n",
       "      <th></th>\n",
       "      <th>id</th>\n",
       "      <th>ingredients</th>\n",
       "    </tr>\n",
       "  </thead>\n",
       "  <tbody>\n",
       "    <tr>\n",
       "      <th>0</th>\n",
       "      <td>18009</td>\n",
       "      <td>[baking powder, eggs, all-purpose flour, raisi...</td>\n",
       "    </tr>\n",
       "    <tr>\n",
       "      <th>1</th>\n",
       "      <td>28583</td>\n",
       "      <td>[sugar, egg yolks, corn starch, cream of tarta...</td>\n",
       "    </tr>\n",
       "    <tr>\n",
       "      <th>2</th>\n",
       "      <td>41580</td>\n",
       "      <td>[sausage links, fennel bulb, fronds, olive oil...</td>\n",
       "    </tr>\n",
       "    <tr>\n",
       "      <th>3</th>\n",
       "      <td>29752</td>\n",
       "      <td>[meat cuts, file powder, smoked sausage, okra,...</td>\n",
       "    </tr>\n",
       "    <tr>\n",
       "      <th>4</th>\n",
       "      <td>35687</td>\n",
       "      <td>[ground black pepper, salt, sausage casings, l...</td>\n",
       "    </tr>\n",
       "  </tbody>\n",
       "</table>\n",
       "</div>"
      ],
      "text/plain": [
       "      id                                        ingredients\n",
       "0  18009  [baking powder, eggs, all-purpose flour, raisi...\n",
       "1  28583  [sugar, egg yolks, corn starch, cream of tarta...\n",
       "2  41580  [sausage links, fennel bulb, fronds, olive oil...\n",
       "3  29752  [meat cuts, file powder, smoked sausage, okra,...\n",
       "4  35687  [ground black pepper, salt, sausage casings, l..."
      ]
     },
     "execution_count": 5,
     "metadata": {},
     "output_type": "execute_result"
    }
   ],
   "source": [
    "# Print first 5 of test\n",
    "test.head()"
   ]
  },
  {
   "cell_type": "code",
   "execution_count": 6,
   "metadata": {
    "ExecuteTime": {
     "end_time": "2021-04-21T05:18:26.098448Z",
     "start_time": "2021-04-21T05:18:26.084449Z"
    },
    "_uuid": "eee7191cb9648164fb904c09596565deaaf6792c"
   },
   "outputs": [],
   "source": [
    "\"\"\"\n",
    "Select data's cuisine column\n",
    "\"\"\"\n",
    "\n",
    "# Target variable\n",
    "target = data.cuisine"
   ]
  },
  {
   "cell_type": "code",
   "execution_count": 7,
   "metadata": {
    "ExecuteTime": {
     "end_time": "2021-04-21T05:18:26.129112Z",
     "start_time": "2021-04-21T05:18:26.099448Z"
    },
    "_uuid": "99d10a97a371070b90dcd4f0b3dd58d725786ff2"
   },
   "outputs": [],
   "source": [
    "\"\"\"\n",
    "Add new column to \"data\" based on the length of the ingredients list\n",
    "\n",
    "\"\"\"\n",
    "data['ingredient_count'] = data.ingredients.apply(lambda x: len(x))"
   ]
  },
  {
   "cell_type": "code",
   "execution_count": 8,
   "metadata": {
    "ExecuteTime": {
     "end_time": "2021-04-21T05:18:26.144113Z",
     "start_time": "2021-04-21T05:18:26.130113Z"
    },
    "pycharm": {
     "name": "#%%\n"
    }
   },
   "outputs": [
    {
     "data": {
      "text/html": [
       "<div>\n",
       "<style scoped>\n",
       "    .dataframe tbody tr th:only-of-type {\n",
       "        vertical-align: middle;\n",
       "    }\n",
       "\n",
       "    .dataframe tbody tr th {\n",
       "        vertical-align: top;\n",
       "    }\n",
       "\n",
       "    .dataframe thead th {\n",
       "        text-align: right;\n",
       "    }\n",
       "</style>\n",
       "<table border=\"1\" class=\"dataframe\">\n",
       "  <thead>\n",
       "    <tr style=\"text-align: right;\">\n",
       "      <th></th>\n",
       "      <th>id</th>\n",
       "      <th>cuisine</th>\n",
       "      <th>ingredients</th>\n",
       "      <th>ingredient_count</th>\n",
       "    </tr>\n",
       "  </thead>\n",
       "  <tbody>\n",
       "    <tr>\n",
       "      <th>0</th>\n",
       "      <td>10259</td>\n",
       "      <td>greek</td>\n",
       "      <td>[romaine lettuce, black olives, grape tomatoes...</td>\n",
       "      <td>9</td>\n",
       "    </tr>\n",
       "    <tr>\n",
       "      <th>1</th>\n",
       "      <td>25693</td>\n",
       "      <td>southern_us</td>\n",
       "      <td>[plain flour, ground pepper, salt, tomatoes, g...</td>\n",
       "      <td>11</td>\n",
       "    </tr>\n",
       "    <tr>\n",
       "      <th>2</th>\n",
       "      <td>20130</td>\n",
       "      <td>filipino</td>\n",
       "      <td>[eggs, pepper, salt, mayonaise, cooking oil, g...</td>\n",
       "      <td>12</td>\n",
       "    </tr>\n",
       "    <tr>\n",
       "      <th>3</th>\n",
       "      <td>22213</td>\n",
       "      <td>indian</td>\n",
       "      <td>[water, vegetable oil, wheat, salt]</td>\n",
       "      <td>4</td>\n",
       "    </tr>\n",
       "    <tr>\n",
       "      <th>4</th>\n",
       "      <td>13162</td>\n",
       "      <td>indian</td>\n",
       "      <td>[black pepper, shallots, cornflour, cayenne pe...</td>\n",
       "      <td>20</td>\n",
       "    </tr>\n",
       "  </tbody>\n",
       "</table>\n",
       "</div>"
      ],
      "text/plain": [
       "      id      cuisine                                        ingredients  \\\n",
       "0  10259        greek  [romaine lettuce, black olives, grape tomatoes...   \n",
       "1  25693  southern_us  [plain flour, ground pepper, salt, tomatoes, g...   \n",
       "2  20130     filipino  [eggs, pepper, salt, mayonaise, cooking oil, g...   \n",
       "3  22213       indian                [water, vegetable oil, wheat, salt]   \n",
       "4  13162       indian  [black pepper, shallots, cornflour, cayenne pe...   \n",
       "\n",
       "   ingredient_count  \n",
       "0                 9  \n",
       "1                11  \n",
       "2                12  \n",
       "3                 4  \n",
       "4                20  "
      ]
     },
     "execution_count": 8,
     "metadata": {},
     "output_type": "execute_result"
    }
   ],
   "source": [
    "data.head()"
   ]
  },
  {
   "cell_type": "code",
   "execution_count": 9,
   "metadata": {
    "ExecuteTime": {
     "end_time": "2021-04-21T05:18:26.160115Z",
     "start_time": "2021-04-21T05:18:26.145113Z"
    },
    "_uuid": "390ef99096c0f6b6fde621b0249d69ecc3cae584"
   },
   "outputs": [],
   "source": [
    "\"\"\"\n",
    "list_temp = []\n",
    "\n",
    "for sublist in lst:\n",
    "    for item in sublist:\n",
    "        list_temp.append(item)\n",
    "\"\"\"\n",
    "\n",
    "\n",
    "def flatten_lists(lst):\n",
    "    \"\"\"Remove nested lists.\"\"\"\n",
    "    return [item for sublist in lst for item in sublist]"
   ]
  },
  {
   "cell_type": "code",
   "execution_count": 10,
   "metadata": {
    "ExecuteTime": {
     "end_time": "2021-04-21T05:18:26.878144Z",
     "start_time": "2021-04-21T05:18:26.161114Z"
    },
    "_uuid": "4e1b1fedaaacba0d6f864e8a6d16ae96fa7b542a"
   },
   "outputs": [
    {
     "data": {
      "image/png": "[encoded data removed]",
      "text/plain": [
       "<Figure size 1008x576 with 3 Axes>"
      ]
     },
     "metadata": {
      "needs_background": "light"
     },
     "output_type": "display_data"
    }
   ],
   "source": [
    "\"\"\"\n",
    "Create matplotlib sub plot\n",
    "\"\"\"\n",
    "\n",
    "# Set dimensions of plot dimenions\n",
    "f = plt.figure(figsize=(14, 8))\n",
    "gs = gridspec.GridSpec(2, 2)\n",
    "\n",
    "# Sub plot for Row 0, Column All\n",
    "ax1 = plt.subplot(gs[0, :])\n",
    "data.ingredient_count.value_counts().hist(ax=ax1)\n",
    "ax1.set_title('Recipe richness', fontsize=12)\n",
    "\n",
    "# Sub plot for Row 1, Column 0\n",
    "ax2 = plt.subplot(gs[1, 0])\n",
    "pd.Series(flatten_lists(list(data['ingredients']))).value_counts()[\n",
    "    :20].plot(kind='barh', ax=ax2)\n",
    "ax2.set_title('Most popular ingredients', fontsize=12)\n",
    "\n",
    "# Sub plot for Row 1, Column 1\n",
    "ax3 = plt.subplot(gs[1, 1])\n",
    "data.groupby('cuisine').mean()['ingredient_count'].sort_values(\n",
    "    ascending=False).plot(kind='barh', ax=ax3)\n",
    "ax3.set_title('Average number of ingredients in cuisines', fontsize=12)\n",
    "\n",
    "# Plot graph\n",
    "plt.show()"
   ]
  },
  {
   "cell_type": "code",
   "execution_count": 11,
   "metadata": {
    "ExecuteTime": {
     "end_time": "2021-04-21T05:18:26.893142Z",
     "start_time": "2021-04-21T05:18:26.879143Z"
    }
   },
   "outputs": [
    {
     "name": "stdout",
     "output_type": "stream",
     "text": [
      "0        [romaine lettuce, black olives, grape tomatoes...\n",
      "1        [plain flour, ground pepper, salt, tomatoes, g...\n",
      "2        [eggs, pepper, salt, mayonaise, cooking oil, g...\n",
      "3                      [water, vegetable oil, wheat, salt]\n",
      "4        [black pepper, shallots, cornflour, cayenne pe...\n",
      "                               ...                        \n",
      "39769    [light brown sugar, granulated sugar, butter, ...\n",
      "39770    [KRAFT Zesty Italian Dressing, purple onion, b...\n",
      "39771    [eggs, citrus fruit, raisins, sourdough starte...\n",
      "39772    [boneless chicken skinless thigh, minced garli...\n",
      "39773    [green chile, jalapeno chilies, onions, ground...\n",
      "Name: ingredients, Length: 39774, dtype: object\n"
     ]
    }
   ],
   "source": [
    "# Print the rows based on the column data.ingredients\n",
    "print(data.ingredients)"
   ]
  },
  {
   "cell_type": "code",
   "execution_count": 12,
   "metadata": {
    "ExecuteTime": {
     "end_time": "2021-04-21T05:18:35.147729Z",
     "start_time": "2021-04-21T05:18:26.894144Z"
    },
    "_uuid": "9262693cc3bf753ee0cf9c8b6dbd73afa42b390d"
   },
   "outputs": [],
   "source": [
    "\"\"\"\n",
    "Create Gensim model for Word2Vec\n",
    "    sentences = list of lists where the inner list contains tokens (e.g. romaine lettuce, black olives, etc)\n",
    "    size = vector_size = number of components of the vector\n",
    "    window = the number of words closest to the given word (top k)\n",
    "    min_count = the min number for the frequncy of a given word, basically a word to be considered must be above this min\n",
    "    iter = epochs = number of full passes of the dataset\n",
    "    \n",
    "\"\"\"\n",
    "# Feed a word2vec with the ingredients\n",
    "w2v = gensim.models.Word2Vec(\n",
    "    list(data.ingredients), size=350, window=10, min_count=2, iter=20)"
   ]
  },
  {
   "cell_type": "markdown",
   "metadata": {},
   "source": [
    "Let's try some examples"
   ]
  },
  {
   "cell_type": "code",
   "execution_count": 13,
   "metadata": {
    "ExecuteTime": {
     "end_time": "2021-04-21T05:18:35.163728Z",
     "start_time": "2021-04-21T05:18:35.148728Z"
    },
    "pycharm": {
     "name": "#%%\n"
    }
   },
   "outputs": [
    {
     "data": {
      "text/plain": [
       "[('beef', 0.6888976097106934),\n",
       " ('pork', 0.6862984895706177),\n",
       " ('beef tongue', 0.6742573976516724),\n",
       " ('ground beef', 0.6198930144309998),\n",
       " ('pork chops', 0.5807772278785706),\n",
       " ('beef brisket', 0.5805191993713379),\n",
       " ('broth', 0.5693376064300537),\n",
       " ('chicken', 0.5665876865386963),\n",
       " ('chuck roast', 0.5616384744644165),\n",
       " ('boneless beef chuck roast', 0.5574293732643127)]"
      ]
     },
     "execution_count": 13,
     "metadata": {},
     "output_type": "execute_result"
    }
   ],
   "source": [
    "\"\"\"\n",
    "Print the most similar word to 'meat' using cosine similarity\n",
    "\n",
    "\"\"\"\n",
    "w2v.wv.most_similar(['meat'])"
   ]
  },
  {
   "cell_type": "code",
   "execution_count": 14,
   "metadata": {
    "ExecuteTime": {
     "end_time": "2021-04-21T05:18:35.179728Z",
     "start_time": "2021-04-21T05:18:35.164728Z"
    },
    "pycharm": {
     "name": "#%%\n"
    }
   },
   "outputs": [
    {
     "data": {
      "text/plain": [
       "[('chicken breasts', 0.7586368322372437),\n",
       " ('boneless chicken breast', 0.7281632423400879),\n",
       " ('chicken thighs', 0.7201734781265259),\n",
       " ('boneless skinless chicken breasts', 0.7098185420036316),\n",
       " ('chicken pieces', 0.679476261138916),\n",
       " ('boneless chicken skinless thigh', 0.6389967799186707),\n",
       " ('cooked chicken', 0.6307079792022705),\n",
       " ('chicken meat', 0.6273239850997925),\n",
       " ('skinless chicken breasts', 0.6029938459396362),\n",
       " ('boneless skinless chicken breast halves', 0.5949251055717468)]"
      ]
     },
     "execution_count": 14,
     "metadata": {},
     "output_type": "execute_result"
    }
   ],
   "source": [
    "\"\"\"\n",
    "Print the most similar word to 'meat' using cosine similarity\n",
    "\n",
    "\"\"\"\n",
    "w2v.wv.most_similar(['chicken'])"
   ]
  },
  {
   "cell_type": "code",
   "execution_count": 15,
   "metadata": {
    "ExecuteTime": {
     "end_time": "2021-04-21T05:18:35.195727Z",
     "start_time": "2021-04-21T05:18:35.180728Z"
    },
    "pycharm": {
     "name": "#%%\n"
    }
   },
   "outputs": [],
   "source": [
    "\"\"\"\n",
    "list_temp = [Get word from doc if the word is in the w2v model's vocab]\n",
    "\n",
    "Add all vector representations of each word from list_temp into 1 vector where each component is the mean of their corresponding\n",
    "components from all words.\n",
    "\n",
    "Basically, get 1 vector based on all the other vectors using a mean of all components in that component's position based on \n",
    "each word.\n",
    "\n",
    "\"\"\"\n",
    "\n",
    "\n",
    "def document_vector(doc):\n",
    "    \"\"\"Create document vectors by averaging word vectors. Remove out-of-vocabulary words.\"\"\"\n",
    "\n",
    "    # Get word from doc if the word is in the model's vocab\n",
    "    doc = [word for word in doc if word in w2v.wv.vocab]\n",
    "\n",
    "    # Return a vector containing the mean of the each component based on all the other vectors\n",
    "    return np.mean(w2v.wv[doc], axis=0)"
   ]
  },
  {
   "cell_type": "code",
   "execution_count": 16,
   "metadata": {
    "ExecuteTime": {
     "end_time": "2021-04-21T05:18:36.984656Z",
     "start_time": "2021-04-21T05:18:35.196728Z"
    },
    "pycharm": {
     "name": "#%%\n"
    }
   },
   "outputs": [],
   "source": [
    "\"\"\"\n",
    "For each cell data (list of words) in data.ingredients and test.ingredients, call document_vector on that list of words to\n",
    "get a 1 vector where each component is the mean of their corresponding component's index.\n",
    "\n",
    "\"\"\"\n",
    "data['doc_vector'] = data.ingredients.apply(document_vector)\n",
    "test['doc_vector'] = test.ingredients.apply(document_vector)"
   ]
  },
  {
   "cell_type": "markdown",
   "metadata": {},
   "source": [
    "#### Idk why this is markdown\n",
    "\n",
    "lb = LabelEncoder()\n",
    "\n",
    "y = lb.fit_transform(target)"
   ]
  },
  {
   "cell_type": "code",
   "execution_count": 17,
   "metadata": {
    "ExecuteTime": {
     "end_time": "2021-04-21T05:18:37.015656Z",
     "start_time": "2021-04-21T05:18:36.985659Z"
    },
    "_uuid": "f2c0c277bd45fde4f35261fe0262bcd3fba17747"
   },
   "outputs": [],
   "source": [
    "\"\"\"\n",
    "Recall that the variable 'target' was the column data.cuisine\n",
    "\n",
    "Use a label encoder to convert a word (Cuisine) to an int,\n",
    "basically map a word to an int\n",
    "\n",
    "\"\"\"\n",
    "lb = LabelEncoder()\n",
    "y = lb.fit_transform(target)"
   ]
  },
  {
   "cell_type": "code",
   "execution_count": 18,
   "metadata": {
    "ExecuteTime": {
     "end_time": "2021-04-21T05:18:37.047716Z",
     "start_time": "2021-04-21T05:18:37.016657Z"
    }
   },
   "outputs": [
    {
     "data": {
      "text/html": [
       "<div>\n",
       "<style scoped>\n",
       "    .dataframe tbody tr th:only-of-type {\n",
       "        vertical-align: middle;\n",
       "    }\n",
       "\n",
       "    .dataframe tbody tr th {\n",
       "        vertical-align: top;\n",
       "    }\n",
       "\n",
       "    .dataframe thead th {\n",
       "        text-align: right;\n",
       "    }\n",
       "</style>\n",
       "<table border=\"1\" class=\"dataframe\">\n",
       "  <thead>\n",
       "    <tr style=\"text-align: right;\">\n",
       "      <th></th>\n",
       "      <th>Label number</th>\n",
       "      <th>Cuisine</th>\n",
       "    </tr>\n",
       "  </thead>\n",
       "  <tbody>\n",
       "    <tr>\n",
       "      <th>0</th>\n",
       "      <td>6</td>\n",
       "      <td>greek</td>\n",
       "    </tr>\n",
       "    <tr>\n",
       "      <th>1</th>\n",
       "      <td>16</td>\n",
       "      <td>southern_us</td>\n",
       "    </tr>\n",
       "    <tr>\n",
       "      <th>2</th>\n",
       "      <td>4</td>\n",
       "      <td>filipino</td>\n",
       "    </tr>\n",
       "    <tr>\n",
       "      <th>3</th>\n",
       "      <td>7</td>\n",
       "      <td>indian</td>\n",
       "    </tr>\n",
       "    <tr>\n",
       "      <th>4</th>\n",
       "      <td>7</td>\n",
       "      <td>indian</td>\n",
       "    </tr>\n",
       "    <tr>\n",
       "      <th>5</th>\n",
       "      <td>10</td>\n",
       "      <td>jamaican</td>\n",
       "    </tr>\n",
       "    <tr>\n",
       "      <th>6</th>\n",
       "      <td>17</td>\n",
       "      <td>spanish</td>\n",
       "    </tr>\n",
       "    <tr>\n",
       "      <th>7</th>\n",
       "      <td>9</td>\n",
       "      <td>italian</td>\n",
       "    </tr>\n",
       "    <tr>\n",
       "      <th>8</th>\n",
       "      <td>13</td>\n",
       "      <td>mexican</td>\n",
       "    </tr>\n",
       "    <tr>\n",
       "      <th>9</th>\n",
       "      <td>9</td>\n",
       "      <td>italian</td>\n",
       "    </tr>\n",
       "  </tbody>\n",
       "</table>\n",
       "</div>"
      ],
      "text/plain": [
       "   Label number      Cuisine\n",
       "0             6        greek\n",
       "1            16  southern_us\n",
       "2             4     filipino\n",
       "3             7       indian\n",
       "4             7       indian\n",
       "5            10     jamaican\n",
       "6            17      spanish\n",
       "7             9      italian\n",
       "8            13      mexican\n",
       "9             9      italian"
      ]
     },
     "execution_count": 18,
     "metadata": {},
     "output_type": "execute_result"
    }
   ],
   "source": [
    "\"\"\"\n",
    "Printing of the mapping of the label number and it's corresponding word (Cuisine) using zip\n",
    "\n",
    "\"\"\"\n",
    "pd_df_temp = pd.DataFrame(zip(y, lb.inverse_transform(y)), columns=[\n",
    "                          \"Label number\", \"Cuisine\"])\n",
    "pd_df_temp.head(10)"
   ]
  },
  {
   "cell_type": "code",
   "execution_count": 19,
   "metadata": {
    "ExecuteTime": {
     "end_time": "2021-04-21T05:18:38.893387Z",
     "start_time": "2021-04-21T05:18:37.048800Z"
    }
   },
   "outputs": [
    {
     "data": {
      "text/html": [
       "<div>\n",
       "<style scoped>\n",
       "    .dataframe tbody tr th:only-of-type {\n",
       "        vertical-align: middle;\n",
       "    }\n",
       "\n",
       "    .dataframe tbody tr th {\n",
       "        vertical-align: top;\n",
       "    }\n",
       "\n",
       "    .dataframe thead th {\n",
       "        text-align: right;\n",
       "    }\n",
       "</style>\n",
       "<table border=\"1\" class=\"dataframe\">\n",
       "  <thead>\n",
       "    <tr style=\"text-align: right;\">\n",
       "      <th></th>\n",
       "      <th>Label number</th>\n",
       "      <th>Cuisine</th>\n",
       "    </tr>\n",
       "  </thead>\n",
       "  <tbody>\n",
       "    <tr>\n",
       "      <th>0</th>\n",
       "      <td>6</td>\n",
       "      <td>greek</td>\n",
       "    </tr>\n",
       "    <tr>\n",
       "      <th>1</th>\n",
       "      <td>16</td>\n",
       "      <td>southern_us</td>\n",
       "    </tr>\n",
       "    <tr>\n",
       "      <th>2</th>\n",
       "      <td>4</td>\n",
       "      <td>filipino</td>\n",
       "    </tr>\n",
       "    <tr>\n",
       "      <th>3</th>\n",
       "      <td>7</td>\n",
       "      <td>indian</td>\n",
       "    </tr>\n",
       "    <tr>\n",
       "      <th>4</th>\n",
       "      <td>7</td>\n",
       "      <td>indian</td>\n",
       "    </tr>\n",
       "    <tr>\n",
       "      <th>5</th>\n",
       "      <td>10</td>\n",
       "      <td>jamaican</td>\n",
       "    </tr>\n",
       "    <tr>\n",
       "      <th>6</th>\n",
       "      <td>17</td>\n",
       "      <td>spanish</td>\n",
       "    </tr>\n",
       "    <tr>\n",
       "      <th>7</th>\n",
       "      <td>9</td>\n",
       "      <td>italian</td>\n",
       "    </tr>\n",
       "    <tr>\n",
       "      <th>8</th>\n",
       "      <td>13</td>\n",
       "      <td>mexican</td>\n",
       "    </tr>\n",
       "    <tr>\n",
       "      <th>9</th>\n",
       "      <td>9</td>\n",
       "      <td>italian</td>\n",
       "    </tr>\n",
       "  </tbody>\n",
       "</table>\n",
       "</div>"
      ],
      "text/plain": [
       "  Label number      Cuisine\n",
       "0            6        greek\n",
       "1           16  southern_us\n",
       "2            4     filipino\n",
       "3            7       indian\n",
       "4            7       indian\n",
       "5           10     jamaican\n",
       "6           17      spanish\n",
       "7            9      italian\n",
       "8           13      mexican\n",
       "9            9      italian"
      ]
     },
     "execution_count": 19,
     "metadata": {},
     "output_type": "execute_result"
    }
   ],
   "source": [
    "\"\"\"\n",
    "Printing of the mapping of the label number and it's corresponding word (Cuisine) using transpose\n",
    "\n",
    "\"\"\"\n",
    "pd_df_temp = pd.DataFrame([y, lb.inverse_transform(y)], index=[\n",
    "                          \"Label number\", \"Cuisine\"]).transpose()\n",
    "pd_df_temp.head(10)"
   ]
  },
  {
   "cell_type": "code",
   "execution_count": 20,
   "metadata": {
    "ExecuteTime": {
     "end_time": "2021-04-21T05:18:38.908384Z",
     "start_time": "2021-04-21T05:18:38.894387Z"
    },
    "_uuid": "0b285a219ecf0bf0e1fbeae56aa372acca123865"
   },
   "outputs": [],
   "source": [
    "\"\"\"\n",
    "Make a list of the training dataset of data's column doc_vector \n",
    "Make a list of the testing dataset of test's column doc_vector \n",
    "\"\"\"\n",
    "X = list(data['doc_vector'])\n",
    "X_test = list(test['doc_vector'])"
   ]
  },
  {
   "cell_type": "code",
   "execution_count": 21,
   "metadata": {
    "ExecuteTime": {
     "end_time": "2021-04-21T05:18:38.923385Z",
     "start_time": "2021-04-21T05:18:38.909385Z"
    },
    "_uuid": "6e9038cfdaac47a4f3f504892531f92f5a4d7024"
   },
   "outputs": [],
   "source": [
    "\"\"\"\n",
    "Make a Logistic Regression classifier\n",
    "\n",
    "Warning:\n",
    "    Will not converge with 100 iterations, not even 1000 will work\n",
    "    \n",
    "\"\"\"\n",
    "clf = LogisticRegression(C=100, max_iter=100)"
   ]
  },
  {
   "cell_type": "code",
   "execution_count": 22,
   "metadata": {
    "ExecuteTime": {
     "end_time": "2021-04-21T05:18:38.938384Z",
     "start_time": "2021-04-21T05:18:38.925384Z"
    }
   },
   "outputs": [
    {
     "name": "stdout",
     "output_type": "stream",
     "text": [
      "Trainig dataset X\n",
      "Amount of Rows: (39774,)\n",
      "Amount of components per vector: (350,)\n",
      "Head of data['doc_vector']:\n",
      "0    [0.43656465, 0.040161446, 0.45400757, 0.036415...\n",
      "1    [-0.40479895, -0.14067498, -0.122548886, 0.046...\n",
      "2    [-0.28444636, -0.036674354, -0.17424917, 0.380...\n",
      "3    [-0.27767453, 0.18196926, 0.11820327, 0.015158...\n",
      "4    [-0.17181876, 0.059060507, 0.049089707, 0.3113...\n",
      "Name: doc_vector, dtype: object\n",
      "\n",
      "----------------------------------------------------------------------------------------------------\n",
      "\n",
      "Trainig dataset X\n",
      "y was the label number for each word (Cuisine)\n",
      "    0\n",
      "0   6\n",
      "1  16\n",
      "2   4\n",
      "3   7\n",
      "4   7\n"
     ]
    }
   ],
   "source": [
    "\"\"\"\n",
    "Recall what X and y are\n",
    "\n",
    "X is a matrix of vectors\n",
    "y is the label number\n",
    "\n",
    "So X with y is a vector and a label number together\n",
    "\n",
    "\"\"\"\n",
    "print(\"Trainig dataset X\")\n",
    "print(\"Amount of Rows:\", data['doc_vector'].shape)\n",
    "print(\"Amount of components per vector:\", data['doc_vector'][0].shape)\n",
    "print(\"Head of data['doc_vector']:\")\n",
    "print(data['doc_vector'].head())\n",
    "print()\n",
    "print(\"-\"*100)\n",
    "print()\n",
    "print(\"Trainig dataset X\")\n",
    "print(\"y was the label number for each word (Cuisine)\")\n",
    "print(pd.DataFrame(y).head())"
   ]
  },
  {
   "cell_type": "code",
   "execution_count": 23,
   "metadata": {
    "ExecuteTime": {
     "end_time": "2021-04-21T05:18:45.199241Z",
     "start_time": "2021-04-21T05:18:38.940384Z"
    },
    "_uuid": "eaef3e8e4ad6a1b46e1ce6bcf605c0f399efc550"
   },
   "outputs": [
    {
     "name": "stderr",
     "output_type": "stream",
     "text": [
      "C:\\Users\\Joseph\\anaconda3\\lib\\site-packages\\sklearn\\linear_model\\_logistic.py:763: ConvergenceWarning: lbfgs failed to converge (status=1):\n",
      "STOP: TOTAL NO. of ITERATIONS REACHED LIMIT.\n",
      "\n",
      "Increase the number of iterations (max_iter) or scale the data as shown in:\n",
      "    https://scikit-learn.org/stable/modules/preprocessing.html\n",
      "Please also refer to the documentation for alternative solver options:\n",
      "    https://scikit-learn.org/stable/modules/linear_model.html#logistic-regression\n",
      "  n_iter_i = _check_optimize_result(\n"
     ]
    },
    {
     "data": {
      "text/plain": [
       "LogisticRegression(C=100)"
      ]
     },
     "execution_count": 23,
     "metadata": {},
     "output_type": "execute_result"
    }
   ],
   "source": [
    "\"\"\"\n",
    "Fit the model based on the training data X (vectors) to y (label numbers)\n",
    "\n",
    "\n",
    "\"\"\"\n",
    "clf.fit(X, y)"
   ]
  },
  {
   "cell_type": "code",
   "execution_count": 24,
   "metadata": {
    "ExecuteTime": {
     "end_time": "2021-04-21T05:18:45.229242Z",
     "start_time": "2021-04-21T05:18:45.200243Z"
    },
    "_uuid": "1a79d7fdf1fa059d40e5e85b176cdb1fc58cb0f7"
   },
   "outputs": [],
   "source": [
    "\"\"\"\n",
    "Predict y_test using X_test (testing dataset)\n",
    "\n",
    "Then convert the label number from y_test to the actual word (Cuisine)\n",
    "\"\"\"\n",
    "\n",
    "# From X_test predict output label number into y_test\n",
    "y_test = clf.predict(X_test)\n",
    "\n",
    "# From y_test (list of lables) transform it from labal number to acutal name (Cuisine)\n",
    "y_pred = lb.inverse_transform(y_test)"
   ]
  },
  {
   "cell_type": "code",
   "execution_count": 25,
   "metadata": {
    "ExecuteTime": {
     "end_time": "2021-04-21T05:18:45.244241Z",
     "start_time": "2021-04-21T05:18:45.230243Z"
    }
   },
   "outputs": [
    {
     "data": {
      "text/html": [
       "<div>\n",
       "<style scoped>\n",
       "    .dataframe tbody tr th:only-of-type {\n",
       "        vertical-align: middle;\n",
       "    }\n",
       "\n",
       "    .dataframe tbody tr th {\n",
       "        vertical-align: top;\n",
       "    }\n",
       "\n",
       "    .dataframe thead th {\n",
       "        text-align: right;\n",
       "    }\n",
       "</style>\n",
       "<table border=\"1\" class=\"dataframe\">\n",
       "  <thead>\n",
       "    <tr style=\"text-align: right;\">\n",
       "      <th></th>\n",
       "      <th>Label number</th>\n",
       "    </tr>\n",
       "  </thead>\n",
       "  <tbody>\n",
       "    <tr>\n",
       "      <th>0</th>\n",
       "      <td>1</td>\n",
       "    </tr>\n",
       "    <tr>\n",
       "      <th>1</th>\n",
       "      <td>5</td>\n",
       "    </tr>\n",
       "    <tr>\n",
       "      <th>2</th>\n",
       "      <td>9</td>\n",
       "    </tr>\n",
       "    <tr>\n",
       "      <th>3</th>\n",
       "      <td>2</td>\n",
       "    </tr>\n",
       "    <tr>\n",
       "      <th>4</th>\n",
       "      <td>9</td>\n",
       "    </tr>\n",
       "  </tbody>\n",
       "</table>\n",
       "</div>"
      ],
      "text/plain": [
       "   Label number\n",
       "0             1\n",
       "1             5\n",
       "2             9\n",
       "3             2\n",
       "4             9"
      ]
     },
     "execution_count": 25,
     "metadata": {},
     "output_type": "execute_result"
    }
   ],
   "source": [
    "pd.DataFrame(y_test, columns=[\"Label number\"]).head()"
   ]
  },
  {
   "cell_type": "code",
   "execution_count": 26,
   "metadata": {
    "ExecuteTime": {
     "end_time": "2021-04-21T05:18:45.816613Z",
     "start_time": "2021-04-21T05:18:45.245244Z"
    }
   },
   "outputs": [
    {
     "data": {
      "text/html": [
       "<div>\n",
       "<style scoped>\n",
       "    .dataframe tbody tr th:only-of-type {\n",
       "        vertical-align: middle;\n",
       "    }\n",
       "\n",
       "    .dataframe tbody tr th {\n",
       "        vertical-align: top;\n",
       "    }\n",
       "\n",
       "    .dataframe thead th {\n",
       "        text-align: right;\n",
       "    }\n",
       "</style>\n",
       "<table border=\"1\" class=\"dataframe\">\n",
       "  <thead>\n",
       "    <tr style=\"text-align: right;\">\n",
       "      <th></th>\n",
       "      <th>Word (Cuisine)</th>\n",
       "      <th>Label number</th>\n",
       "    </tr>\n",
       "  </thead>\n",
       "  <tbody>\n",
       "    <tr>\n",
       "      <th>0</th>\n",
       "      <td>british</td>\n",
       "      <td>1</td>\n",
       "    </tr>\n",
       "    <tr>\n",
       "      <th>1</th>\n",
       "      <td>french</td>\n",
       "      <td>5</td>\n",
       "    </tr>\n",
       "    <tr>\n",
       "      <th>2</th>\n",
       "      <td>italian</td>\n",
       "      <td>9</td>\n",
       "    </tr>\n",
       "    <tr>\n",
       "      <th>3</th>\n",
       "      <td>cajun_creole</td>\n",
       "      <td>2</td>\n",
       "    </tr>\n",
       "    <tr>\n",
       "      <th>4</th>\n",
       "      <td>italian</td>\n",
       "      <td>9</td>\n",
       "    </tr>\n",
       "  </tbody>\n",
       "</table>\n",
       "</div>"
      ],
      "text/plain": [
       "  Word (Cuisine) Label number\n",
       "0        british            1\n",
       "1         french            5\n",
       "2        italian            9\n",
       "3   cajun_creole            2\n",
       "4        italian            9"
      ]
     },
     "execution_count": 26,
     "metadata": {},
     "output_type": "execute_result"
    }
   ],
   "source": [
    "pd.DataFrame([lb.inverse_transform(y_test), y_test], index=[\n",
    "             \"Word (Cuisine)\", \"Label number\"]).transpose().head()"
   ]
  },
  {
   "cell_type": "code",
   "execution_count": 27,
   "metadata": {
    "ExecuteTime": {
     "end_time": "2021-04-21T05:18:45.847613Z",
     "start_time": "2021-04-21T05:18:45.817614Z"
    },
    "_uuid": "d1544ffc6656be3fe612c041e7ce18143269f917"
   },
   "outputs": [],
   "source": [
    "\"\"\"\n",
    "Based on the id of the testing dataset (Recall that you only get an id and the ingredients in this dataset),\n",
    "Predict what type of cuisine that id represents based on your classifier's results.\n",
    "\n",
    "Remember id and ingredients are tied together\n",
    "Remember y_pred is a cuisine.\n",
    "\n",
    "\"\"\"\n",
    "\n",
    "# Get the test's ids only\n",
    "test_id = [id_ for id_ in test.id]\n",
    "\n",
    "\"\"\"\n",
    "Make a DataFrame of the id from test and the cuisine that the classifier predicted. Recall you needed to transform the output of\n",
    "what the classifier predicted which was a label number so you need to convert that label number to an actual word (Cuisine)\n",
    "\n",
    "\"\"\"\n",
    "sub = pd.DataFrame({'id': test_id, 'cuisine': y_pred},\n",
    "                   columns=['id', 'cuisine'])\n",
    "\n",
    "# Export predicted into a csv file\n",
    "sub.to_csv('clf_output.csv', index=False)"
   ]
  }
 ],
 "metadata": {
  "kernelspec": {
   "display_name": "Python 3.8.5 64-bit Anaconda (Only works with Anaconda's Jupyter)",
   "language": "python",
   "name": "python3"
  },
  "language_info": {
   "codemirror_mode": {
    "name": "ipython",
    "version": 3
   },
   "file_extension": ".py",
   "mimetype": "text/x-python",
   "name": "python",
   "nbconvert_exporter": "python",
   "pygments_lexer": "ipython3",
   "version": "3.8.5"
  },
  "varInspector": {
   "cols": {
    "lenName": 16,
    "lenType": 16,
    "lenVar": 40
   },
   "kernels_config": {
    "python": {
     "delete_cmd_postfix": "",
     "delete_cmd_prefix": "del ",
     "library": "var_list.py",
     "varRefreshCmd": "print(var_dic_list())"
    },
    "r": {
     "delete_cmd_postfix": ") ",
     "delete_cmd_prefix": "rm(",
     "library": "var_list.r",
     "varRefreshCmd": "cat(var_dic_list()) "
    }
   },
   "types_to_exclude": [
    "module",
    "function",
    "builtin_function_or_method",
    "instance",
    "_Feature"
   ],
   "window_display": false
  }
 },
 "nbformat": 4,
 "nbformat_minor": 1
}