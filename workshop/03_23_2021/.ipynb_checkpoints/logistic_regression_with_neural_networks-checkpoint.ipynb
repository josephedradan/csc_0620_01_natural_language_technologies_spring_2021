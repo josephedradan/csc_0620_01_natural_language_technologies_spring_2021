{
 "cells": [
  {
   "cell_type": "markdown",
   "metadata": {},
   "source": [
    "## CSC 0620-01 Natural Language Technologies Spring 2021\n",
    "\n",
    "Joseph Edradan <br>\n",
    "03/23/2021 <br>\n",
    "\n",
    "#### Submission for hands-on workshop on Mar 18th\n",
    "\n",
    "<ol>\n",
    "  <li>Understand the Logistic Regression based sentiment analysis implemented here: <a href=\"https://www.kaggle.com/davidoluwatobipeter/sentiment-analysis-logistic-regression-and-lstm\">Sentiment Analysis: Logistic Regression and LSTM\n",
    "</a></li>\n",
    "  <li>Create a copy of the above Jupyter notebook (or export it as python program).  In this new notebook (or program) add a detailed description (and in your own words) of what is happening in each code block. You need to implement only till the 62nd step as the rest involves LSTM model and fine-tuning LR model.\n",
    "</li>\n",
    "</ol>"
   ]
  },
  {
   "cell_type": "markdown",
   "metadata": {},
   "source": [
    "Classification is the process of predicting the class of given data points. Classes are sometimes called targets/ labels or categories. Classification predictive modeling is the task of approximating a mapping function (f) from input variables (X) to discrete output variables (y). Classification belongs to the category of supervised learning where the targets also provided with the input data.\n",
    "\n",
    "A classifier utilizes some training data to understand how given input variables relate to the class."
   ]
  },
  {
   "cell_type": "markdown",
   "metadata": {},
   "source": [
    "Classification is the process of predicting the class of given data points. Classes are sometimes called targets/ labels or categories. Classification predictive modeling is the task of approximating a mapping function (f) from input variables (X) to discrete output variables (y). Classification belongs to the category of supervised learning where the targets also provided with the input data.\n",
    "\n",
    "A classifier utilizes some training data to understand how given input variables relate to the class."
   ]
  },
  {
   "cell_type": "markdown",
   "metadata": {},
   "source": [
    "This end goal of this project is to build models - Logistic Regression, a classical traditional machine learning algorithm and Long Short Term Memory, a deep learning algorithm that can predict the sentiment category or class of texts based on covid19 related tweets\n",
    "\n",
    "This problem is an instance of multiclass classification; and because each data point should be classified into only one category, the problem is more specifically an instance of single-label, multiclass classification.\n",
    "\n",
    "The dataset used for this project can be found at https://www.kaggle.com/datatattle/covid-19-nlp-text-classification?rvi=1"
   ]
  },
  {
   "cell_type": "markdown",
   "metadata": {},
   "source": [
    "Python Libraries Needed for File Opening, Data Analysis, Data Visualization, Data Exploration and Data Cleaning"
   ]
  },
  {
   "cell_type": "code",
   "execution_count": null,
   "metadata": {
    "ExecuteTime": {
     "start_time": "2021-03-28T06:28:27.883Z"
    }
   },
   "outputs": [],
   "source": [
    "\"\"\"\n",
    "Import libraries and use a matplotlib magic function to put the plots inline\n",
    "\n",
    "\"\"\"\n",
    "import seaborn as sns\n",
    "import os\n",
    "import pandas as pd\n",
    "import numpy as np\n",
    "import matplotlib.pyplot as plt\n",
    "%matplotlib inline"
   ]
  },
  {
   "cell_type": "code",
   "execution_count": null,
   "metadata": {
    "ExecuteTime": {
     "start_time": "2021-03-28T06:29:05.719Z"
    }
   },
   "outputs": [],
   "source": [
    "\"\"\"\n",
    "Names for the dataset\n",
    "\"\"\"\n",
    "train = 'Corona_NLP_train.csv'\n",
    "test = 'Corona_NLP_test.csv'"
   ]
  },
  {
   "cell_type": "code",
   "execution_count": null,
   "metadata": {
    "ExecuteTime": {
     "start_time": "2021-03-28T06:28:27.886Z"
    }
   },
   "outputs": [],
   "source": [
    "# A copy of the files is preserved inorder to retain an original structure which won't be affected by\n",
    "# the data processings."
   ]
  },
  {
   "cell_type": "code",
   "execution_count": null,
   "metadata": {
    "ExecuteTime": {
     "start_time": "2021-03-28T06:28:27.887Z"
    }
   },
   "outputs": [],
   "source": [
    "\"\"\"\n",
    "Mand pandas DataFrame with latin-1 beecause of special characters\n",
    "\"\"\"\n",
    "trainOriginal = pd.read_csv(train, encoding='latin-1')\n",
    "testOriginal = pd.read_csv(test, encoding='latin-1')"
   ]
  },
  {
   "cell_type": "code",
   "execution_count": null,
   "metadata": {
    "ExecuteTime": {
     "start_time": "2021-03-28T06:28:27.888Z"
    }
   },
   "outputs": [],
   "source": [
    "\"\"\"\n",
    "Make copies of the DataFrames\n",
    "\"\"\"\n",
    "train = trainOriginal.copy()\n",
    "test = testOriginal.copy()"
   ]
  },
  {
   "cell_type": "code",
   "execution_count": null,
   "metadata": {
    "ExecuteTime": {
     "start_time": "2021-03-28T06:28:27.889Z"
    }
   },
   "outputs": [],
   "source": [
    "# Earlier attempts to open the files with a utf-8 encoding lead to a unicode error as it couldn't\n",
    "# parse certain parts of the file, hence, utf-8 was introduced as a solution."
   ]
  },
  {
   "cell_type": "code",
   "execution_count": null,
   "metadata": {
    "ExecuteTime": {
     "start_time": "2021-03-28T06:28:27.890Z"
    }
   },
   "outputs": [],
   "source": [
    "\"\"\"\n",
    "Show first 5 of the training dataset\n",
    "\"\"\"\n",
    "train.head()"
   ]
  },
  {
   "cell_type": "code",
   "execution_count": null,
   "metadata": {
    "ExecuteTime": {
     "start_time": "2021-03-28T06:28:27.891Z"
    }
   },
   "outputs": [],
   "source": [
    "\"\"\"\n",
    "Show first 5 of the training dataset\n",
    "\"\"\"\n",
    "test.head()"
   ]
  },
  {
   "cell_type": "code",
   "execution_count": null,
   "metadata": {
    "ExecuteTime": {
     "start_time": "2021-03-28T06:28:27.892Z"
    }
   },
   "outputs": [],
   "source": [
    "# The datasets contain 7 columns housing the data info. The UserName and ScreenName has being\n",
    "# encrypted due to privacy concerns. The tweets contains mentions and hashtags which must be cleaned\n",
    "# in order to help the models better understand the statistical relationship between the relevant\n",
    "# details. The sentiment column contains 5 different classes which can be remapped into 3 for better\n",
    "# statistical understanding. The other columns are the timeframe of the tweets and the location from\n",
    "# where the tweets where twitted."
   ]
  },
  {
   "cell_type": "code",
   "execution_count": null,
   "metadata": {
    "ExecuteTime": {
     "start_time": "2021-03-28T06:28:27.893Z"
    }
   },
   "outputs": [],
   "source": [
    "\"\"\"\n",
    "Show training dataset info\n",
    "\"\"\"\n",
    "train.info()"
   ]
  },
  {
   "cell_type": "code",
   "execution_count": null,
   "metadata": {
    "ExecuteTime": {
     "start_time": "2021-03-28T06:28:27.894Z"
    }
   },
   "outputs": [],
   "source": [
    "# The datas that will have the major effects on how the models determine the classes are non integers\n",
    "# which means data preprocessing steps needs to be don before feeding them into the models."
   ]
  },
  {
   "cell_type": "code",
   "execution_count": null,
   "metadata": {
    "ExecuteTime": {
     "start_time": "2021-03-28T06:28:27.895Z"
    }
   },
   "outputs": [],
   "source": [
    "\"\"\"\n",
    "Show training dataset empty cell\n",
    "\"\"\"\n",
    "train.isnull().sum()"
   ]
  },
  {
   "cell_type": "code",
   "execution_count": null,
   "metadata": {
    "ExecuteTime": {
     "start_time": "2021-03-28T06:28:27.895Z"
    }
   },
   "outputs": [],
   "source": [
    "# The location column contains a whooping 8590 missing rows. Filling the blanks with the most common\n",
    "# location won't really make sense as the missing details are too much."
   ]
  },
  {
   "cell_type": "code",
   "execution_count": null,
   "metadata": {
    "ExecuteTime": {
     "start_time": "2021-03-28T06:28:27.896Z"
    }
   },
   "outputs": [],
   "source": [
    "\"\"\"\n",
    "Show training dataset's Location column from row 0 to 60\n",
    "\"\"\"\n",
    "train['Location'].value_counts()[:60]"
   ]
  },
  {
   "cell_type": "code",
   "execution_count": null,
   "metadata": {
    "ExecuteTime": {
     "start_time": "2021-03-28T06:28:27.899Z"
    }
   },
   "outputs": [],
   "source": [
    "# The location info was splitted and merged because lots of the locations are in the same geolocation,\n",
    "# The datasets also shows a great reprentative bias. For a global distortion, the bulk of the data\n",
    "# collected are within few geopolitical zones with Africa having a little representation. Different\n",
    "# ideals, govermental polices, religious beliefs etc are factors that likely influenced the sentiment\n",
    "# class of individual tweets."
   ]
  },
  {
   "cell_type": "code",
   "execution_count": null,
   "metadata": {
    "ExecuteTime": {
     "start_time": "2021-03-28T06:28:27.900Z"
    }
   },
   "outputs": [],
   "source": [
    "\"\"\"\n",
    "In both the training and testing dataset split cell's string by a delimiter and use only the first string split by the delimiter\n",
    "\"\"\"\n",
    "# splitting location into word pairs\n",
    "train['Location'] = train['Location'].str.split(\",\").str[0]\n",
    "test['Location'] = test['Location'].str.split(\",\").str[0]"
   ]
  },
  {
   "cell_type": "code",
   "execution_count": null,
   "metadata": {
    "ExecuteTime": {
     "start_time": "2021-03-28T06:28:27.901Z"
    }
   },
   "outputs": [],
   "source": [
    "\"\"\"\n",
    "Show training dataset's Location column from row 0 to 60 (should be clean now)\n",
    "\"\"\"\n",
    "train['Location'].value_counts()[:60]"
   ]
  },
  {
   "cell_type": "code",
   "execution_count": null,
   "metadata": {
    "ExecuteTime": {
     "start_time": "2021-03-28T06:28:27.902Z"
    }
   },
   "outputs": [],
   "source": [
    "\"\"\"\n",
    "Show training dataset's TweetAt count of the same cell data (Count the amount of times a cell has the same value)\n",
    "\"\"\"\n",
    "train['TweetAt'].value_counts()"
   ]
  },
  {
   "cell_type": "code",
   "execution_count": null,
   "metadata": {
    "ExecuteTime": {
     "start_time": "2021-03-28T06:28:27.903Z"
    }
   },
   "outputs": [],
   "source": [
    "# The data collected was tweeted between 16th March, 2020 to 14th April, 2020. Any model built and\n",
    "# deployed at this time may likely not be relevant for present use due to new findings, researches,\n",
    "# tresnd that have emerged which will influence every recent covid19 related tweets. Any model built\n",
    "# using this data will be a decayed model and further decay will happen at a rapid pace."
   ]
  },
  {
   "cell_type": "code",
   "execution_count": null,
   "metadata": {
    "ExecuteTime": {
     "start_time": "2021-03-28T06:28:27.904Z"
    }
   },
   "outputs": [],
   "source": [
    "\"\"\"\n",
    "Show training dataset's Sentiment count of the same cell data (Count the amount of times a cell has the same value)\n",
    "\"\"\"\n",
    "train['Sentiment'].value_counts()"
   ]
  },
  {
   "cell_type": "code",
   "execution_count": null,
   "metadata": {
    "ExecuteTime": {
     "start_time": "2021-03-28T06:28:27.905Z"
    }
   },
   "outputs": [],
   "source": [
    "# Positive > Negative > Neutral and the categories will be remapped to fully represent this position."
   ]
  },
  {
   "cell_type": "markdown",
   "metadata": {},
   "source": [
    "Visual Representation of the Training Set"
   ]
  },
  {
   "cell_type": "code",
   "execution_count": null,
   "metadata": {
    "ExecuteTime": {
     "start_time": "2021-03-28T06:28:27.907Z"
    }
   },
   "outputs": [],
   "source": [
    "\"\"\"\n",
    "Use matplotlib to plot a seaborn (a library for making colorful representations of data) count plot on the location count \n",
    "\"\"\"\n",
    "plt.figure(figsize=(10, 10))\n",
    "sns.countplot(y='Location', data=train, order=train.Location.value_counts().iloc[\n",
    "    0:19].index).set_title(\"Twitted locations\")"
   ]
  },
  {
   "cell_type": "code",
   "execution_count": null,
   "metadata": {
    "ExecuteTime": {
     "start_time": "2021-03-28T06:28:27.907Z"
    }
   },
   "outputs": [],
   "source": [
    "\"\"\"\n",
    "Use matplotlib to plot a seaborn (a library for making colorful representations of data) count plot on the Sentiment count \n",
    "\"\"\"\n",
    "sns.set_style(\"whitegrid\")\n",
    "sns.set(rc={'figure.figsize': (11, 8)})\n",
    "sns.countplot(train['Sentiment'])"
   ]
  },
  {
   "cell_type": "code",
   "execution_count": null,
   "metadata": {
    "ExecuteTime": {
     "start_time": "2021-03-28T06:28:27.908Z"
    }
   },
   "outputs": [],
   "source": [
    "\"\"\"\n",
    "Use matplotlib to plot pie plot on the Sentiment count \n",
    "\"\"\"\n",
    "labels = ['Positve', 'Negative', 'Neutral',\n",
    "          'Extremely Positive', 'Extremely Negative']\n",
    "colors = ['#ff9999', '#66b3ff', '#99ff99', '#ffcc99', '#ff5645']\n",
    "explode = (0.05, 0.05, 0.05, 0.05, 0.05)\n",
    "plt.pie(train.Sentiment.value_counts(), colors=colors, labels=labels,\n",
    "        autopct='%1.1f%%', startangle=90, pctdistance=0.85, explode=explode)\n",
    "centreCircle = plt.Circle((0, 0), 0.70, fc='white')\n",
    "fig = plt.gcf()\n",
    "fig.gca().add_artist(centreCircle)\n",
    "plt.tight_layout()\n",
    "plt.show()"
   ]
  },
  {
   "cell_type": "code",
   "execution_count": null,
   "metadata": {
    "ExecuteTime": {
     "start_time": "2021-03-28T06:28:27.909Z"
    }
   },
   "outputs": [],
   "source": [
    "\"\"\"\n",
    "Make a DataFrame of the training dataset using all rows and columns Location and Sentiment\n",
    "\"\"\"\n",
    "# [:,[2,5]] is the location and sentiment columns\n",
    "plotDf = train.iloc[:, [2, 5]]\n",
    "plotDf"
   ]
  },
  {
   "cell_type": "code",
   "execution_count": null,
   "metadata": {
    "ExecuteTime": {
     "start_time": "2021-03-28T06:28:27.910Z"
    }
   },
   "outputs": [],
   "source": [
    "\"\"\"\n",
    "Use matplotlib to plot a seaborn (a library for making colorful representations of data) count plot on the Sentiment count based on Location\n",
    "\"\"\"\n",
    "sns.set(rc={'figure.figsize': (15, 9)})\n",
    "gg = train.Location.value_counts()[:5].index\n",
    "plt.title('Sentiment Categories of the First 5 Top Locations',\n",
    "          fontsize=16, fontweight='bold')\n",
    "sns.countplot(x='Location', hue='Sentiment', data=plotDf, order=gg)"
   ]
  },
  {
   "cell_type": "code",
   "execution_count": null,
   "metadata": {
    "ExecuteTime": {
     "start_time": "2021-03-28T06:28:27.911Z"
    }
   },
   "outputs": [],
   "source": [
    "# Reflecting the insight from train['Sentiment'].value_counts(), positive sentiment dominates the\n",
    "# kind of tweets across the locations."
   ]
  },
  {
   "cell_type": "markdown",
   "metadata": {},
   "source": [
    "Data Processing for Machine Learning Algorithms\n",
    "\n",
    "Data processing deals with preparing the input data and targets before feeding them into a machine learning model. Many data-preprocessing and feature-engineering techniques are domain specific (for example, specific to text data).\n",
    "\n",
    "Data preprocessing aims at making the raw data at hand more amenable to machine learning algorithms. This includes vectorization, normalization, handling missing values, and feature extraction.\n",
    "\n",
    "Particular to this project is the need to convert the tweets into vector arrays and padded sequences before feeding it into the logistic regression and LSTM models respectively."
   ]
  },
  {
   "cell_type": "markdown",
   "metadata": {},
   "source": [
    "Both the test and train set are concatenated together to easily preprocess both together.\n",
    "\n",
    "Training set will have an identity of 0 while the test set will have 1"
   ]
  },
  {
   "cell_type": "code",
   "execution_count": null,
   "metadata": {
    "ExecuteTime": {
     "start_time": "2021-03-28T06:28:27.913Z"
    }
   },
   "outputs": [],
   "source": [
    "\"\"\"\n",
    "Set a value for the Identity column for the traning and testing dataset \n",
    "\"\"\"\n",
    "train['Identity'] = 0\n",
    "test['Identity'] = 1\n",
    "\n",
    "\"\"\"\n",
    "Make a new pd DataFrame with both the training and testing dataset and reset the indices for concating two DataFrames\n",
    "\"\"\"\n",
    "covid = pd.concat([train, test])\n",
    "covid.reset_index(drop=True, inplace=True)"
   ]
  },
  {
   "cell_type": "code",
   "execution_count": null,
   "metadata": {
    "ExecuteTime": {
     "start_time": "2021-03-28T06:28:27.914Z"
    }
   },
   "outputs": [],
   "source": [
    "covid.head()"
   ]
  },
  {
   "cell_type": "markdown",
   "metadata": {},
   "source": [
    "The 5 sentiment categories are regrouped into 3 for easy data analysis"
   ]
  },
  {
   "cell_type": "code",
   "execution_count": null,
   "metadata": {
    "ExecuteTime": {
     "start_time": "2021-03-28T06:28:27.915Z"
    }
   },
   "outputs": [],
   "source": [
    "\"\"\"\n",
    "In the covid DF replace 'Extremely Positive' with 'Positive' and 'Extremely Negative' with 'Negative'\n",
    "\"\"\"\n",
    "covid['Sentiment'] = covid['Sentiment'].str.replace(\n",
    "    'Extremely Positive', 'Positive')\n",
    "covid['Sentiment'] = covid['Sentiment'].str.replace(\n",
    "    'Extremely Negative', 'Negative')"
   ]
  },
  {
   "cell_type": "markdown",
   "metadata": {},
   "source": [
    "The screen and username columns are dropped since they'll have no effect on the accuracy of the model."
   ]
  },
  {
   "cell_type": "code",
   "execution_count": null,
   "metadata": {
    "ExecuteTime": {
     "start_time": "2021-03-28T06:28:27.917Z"
    }
   },
   "outputs": [],
   "source": [
    "\"\"\"\n",
    "In the covid DF replace Drop columns 'ScreenName' and 'Username'\n",
    "\"\"\"\n",
    "covid = covid.drop('ScreenName', axis=1)\n",
    "covid = covid.drop('UserName', axis=1)\n",
    "covid"
   ]
  },
  {
   "cell_type": "code",
   "execution_count": null,
   "metadata": {
    "ExecuteTime": {
     "start_time": "2021-03-28T06:28:27.919Z"
    }
   },
   "outputs": [],
   "source": [
    "# The blank rows in the Location column would have being filled with Unknown if it would have had any\n",
    "# significant impact on the objective of the project\n",
    "# covid['Location'].fillna('Unknown', inplace=True)\n",
    "\n",
    "# covid.isnull().sum() would have being used to check and confirm"
   ]
  },
  {
   "cell_type": "markdown",
   "metadata": {},
   "source": [
    "Visualizing the Concanated Data Set"
   ]
  },
  {
   "cell_type": "code",
   "execution_count": null,
   "metadata": {
    "ExecuteTime": {
     "start_time": "2021-03-28T06:28:27.920Z"
    }
   },
   "outputs": [],
   "source": [
    "\"\"\"\n",
    "Use matplotlib on seaborn countplot on the column 'Sentiment'\n",
    "\"\"\"\n",
    "sns.set_style(\"whitegrid\")\n",
    "sns.set(rc={'figure.figsize': (11, 8)})\n",
    "sns.countplot(covid['Sentiment'])"
   ]
  },
  {
   "cell_type": "code",
   "execution_count": null,
   "metadata": {
    "ExecuteTime": {
     "start_time": "2021-03-28T06:28:27.921Z"
    }
   },
   "outputs": [],
   "source": [
    "\"\"\"\n",
    "Use matplotlib pie plot on the column 'Sentiment'\n",
    "\"\"\"\n",
    "labels = ['Positve', 'Negative', 'Neutral']\n",
    "colors = ['lightblue', 'lightsteelblue', 'silver']\n",
    "explode = (0.1, 0.1, 0.1)\n",
    "plt.pie(covid.Sentiment.value_counts(), colors=colors, labels=labels,\n",
    "        shadow=300, autopct='%1.1f%%', startangle=90, explode=explode)\n",
    "plt.show()"
   ]
  },
  {
   "cell_type": "code",
   "execution_count": null,
   "metadata": {
    "ExecuteTime": {
     "start_time": "2021-03-28T06:28:27.922Z"
    }
   },
   "outputs": [],
   "source": [
    "\"\"\"\n",
    "Use matplotlib on seaborn countplot on Location count for every location on 'Location'\n",
    "\"\"\"\n",
    "plt.figure(figsize=(10, 10))\n",
    "sns.countplot(y='Location', data=train, order=train.Location.value_counts().iloc[\n",
    "    0:19].index).set_title(\"Twitted locations\")"
   ]
  },
  {
   "cell_type": "markdown",
   "metadata": {},
   "source": [
    "The sentiment categories are remapped into three so that the classifiers will be more accurate.\n",
    "\n",
    "Neutral: 0, Positive: 1, Negative: 2"
   ]
  },
  {
   "cell_type": "code",
   "execution_count": null,
   "metadata": {
    "ExecuteTime": {
     "start_time": "2021-03-28T06:28:27.924Z"
    }
   },
   "outputs": [],
   "source": [
    "\"\"\"\n",
    "In pd DataFrame covid column 'Sentiment', replace words with a number with a mapping \n",
    "\"\"\"\n",
    "covid['Sentiment'] = covid['Sentiment'].map(\n",
    "    {'Neutral': 0, 'Positive': 1, 'Negative': 2})"
   ]
  },
  {
   "cell_type": "markdown",
   "metadata": {},
   "source": [
    "Further Data Processing and Analysis - top mentions and hashtags in the tweets are extracted and analyzed, after which they will be removed as well as the stop words just to make it easier for the models to discover the statistical relationship between the words."
   ]
  },
  {
   "cell_type": "code",
   "execution_count": null,
   "metadata": {
    "ExecuteTime": {
     "start_time": "2021-03-28T06:28:27.925Z"
    }
   },
   "outputs": [],
   "source": [
    "\"\"\"\n",
    "In pd DataFrame covid column 'OriginalTweet', Use regex to get strings that start with '#' and don't have any space after it.\n",
    "Basically get all hashtags\n",
    "\n",
    "Then print df based on hashtag count\n",
    "\"\"\"\n",
    "hashTags = covid['OriginalTweet'].str.extractall(r\"(#\\S+)\")\n",
    "hashTags = hashTags[0].value_counts()\n",
    "hashTags[:50]"
   ]
  },
  {
   "cell_type": "code",
   "execution_count": null,
   "metadata": {
    "ExecuteTime": {
     "start_time": "2021-03-28T06:28:27.926Z"
    }
   },
   "outputs": [],
   "source": [
    "# As expected, the bulk of the tweets centres around covid19, it's other generic names, safety\n",
    "# protocols as well as the different materials needed to weather through the tough times."
   ]
  },
  {
   "cell_type": "code",
   "execution_count": null,
   "metadata": {
    "ExecuteTime": {
     "start_time": "2021-03-28T06:28:27.927Z"
    },
    "scrolled": true
   },
   "outputs": [],
   "source": [
    "\"\"\"\n",
    "In pd DataFrame train column 'OriginalTweet', Use regex to get strings that start with '#' and don't have any space after it.\n",
    "Basically get all hashtags.\n",
    "\n",
    "Then print df based on hashtag count\n",
    "\"\"\"\n",
    "mentions = train['OriginalTweet'].str.extractall(r\"(@\\S+)\")\n",
    "mentions = mentions[0].value_counts()\n",
    "mentions[:50]"
   ]
  },
  {
   "cell_type": "markdown",
   "metadata": {},
   "source": [
    "A python regex function to clean the tweets by removing hashtags, mentions, urls, digits and stop words."
   ]
  },
  {
   "cell_type": "code",
   "execution_count": null,
   "metadata": {
    "ExecuteTime": {
     "start_time": "2021-03-28T06:28:27.928Z"
    }
   },
   "outputs": [],
   "source": [
    "\"\"\"\n",
    "Make a function that uses regex to remove links, @, hashtags, numbers, <STUFF> with a space\n",
    "\"\"\"\n",
    "import re\n",
    "\n",
    "\n",
    "def clean(text):\n",
    "    text = re.sub(r'http\\S+', \" \", text)\n",
    "    text = re.sub(r'@\\w+', ' ', text)\n",
    "    text = re.sub(r'#\\w+', ' ', text)\n",
    "    text = re.sub(r'\\d+', ' ', text)\n",
    "    text = re.sub(r'<.*?>', ' ', text)\n",
    "    text = text.split()\n",
    "    text = \" \".join([word for word in text if not word in stopWord])\n",
    "\n",
    "    return text"
   ]
  },
  {
   "cell_type": "code",
   "execution_count": null,
   "metadata": {
    "ExecuteTime": {
     "start_time": "2021-03-28T06:28:27.929Z"
    }
   },
   "outputs": [],
   "source": [
    "\"\"\"\n",
    "Import nltk and its stopwords\n",
    "\n",
    "\"\"\"\n",
    "import nltk\n",
    "from nltk.corpus import stopwords"
   ]
  },
  {
   "cell_type": "code",
   "execution_count": null,
   "metadata": {
    "ExecuteTime": {
     "start_time": "2021-03-28T06:28:27.930Z"
    }
   },
   "outputs": [],
   "source": [
    "# Stop words are high-frequency words like a, an, the, to and also that we sometimes want to filter\n",
    "# out of a document before further processing. Stop words usually have little lexical content and\n",
    "# do not hold much of a meaning.\n",
    "\n",
    "# Below is a list of 25 example of semantically non-selective stop words: a, an, and, are, as, at,\n",
    "# be, by, for, from, has, he, in, is, it, its, of, on, that, the, to, was, were, will, with."
   ]
  },
  {
   "cell_type": "code",
   "execution_count": null,
   "metadata": {
    "ExecuteTime": {
     "start_time": "2021-03-28T06:28:27.931Z"
    }
   },
   "outputs": [],
   "source": [
    "\"\"\"\n",
    "Get a stopwords object\n",
    "\n",
    "\"\"\"\n",
    "stopWord = stopwords.words('english')"
   ]
  },
  {
   "cell_type": "code",
   "execution_count": null,
   "metadata": {
    "ExecuteTime": {
     "start_time": "2021-03-28T06:28:27.933Z"
    }
   },
   "outputs": [],
   "source": [
    "\"\"\"\n",
    "Clean the tweets in the df covid column 'OriginalTweet'\n",
    "\n",
    "\"\"\"\n",
    "covid['OriginalTweet'] = covid['OriginalTweet'].apply(lambda x: clean(x))"
   ]
  },
  {
   "cell_type": "code",
   "execution_count": null,
   "metadata": {
    "ExecuteTime": {
     "start_time": "2021-03-28T06:28:27.934Z"
    }
   },
   "outputs": [],
   "source": [
    "\"\"\"\n",
    "Show first 5 of the covid df\n",
    "\n",
    "\"\"\"\n",
    "covid.head()"
   ]
  },
  {
   "cell_type": "markdown",
   "metadata": {},
   "source": [
    "Features not needed for the predictions are dropped"
   ]
  },
  {
   "cell_type": "code",
   "execution_count": null,
   "metadata": {
    "ExecuteTime": {
     "start_time": "2021-03-28T06:28:27.935Z"
    }
   },
   "outputs": [],
   "source": [
    "\"\"\"\n",
    "Modify the DF to only show 3 specific columns\n",
    "\n",
    "\"\"\"\n",
    "covid = covid[['OriginalTweet', 'Sentiment', 'Identity']]\n",
    "covid.head()"
   ]
  },
  {
   "cell_type": "markdown",
   "metadata": {},
   "source": [
    "Libraries and Frame Works Needed for Further Data Processing, Building a Logistic Regression Model and it's Evaluation"
   ]
  },
  {
   "cell_type": "code",
   "execution_count": null,
   "metadata": {
    "ExecuteTime": {
     "start_time": "2021-03-28T06:28:27.937Z"
    }
   },
   "outputs": [],
   "source": [
    "\"\"\"\n",
    "From nltk import a Steemer and a Lemmatizer aswell as word and sentence tokenizers\n",
    "\n",
    "From sklearn import Logistic regression and and functions to train, score, report, and tune a model\n",
    "\"\"\"\n",
    "from nltk.stem.porter import PorterStemmer\n",
    "from nltk.stem import WordNetLemmatizer\n",
    "from nltk.tokenize import word_tokenize, sent_tokenize\n",
    "from sklearn.feature_extraction.text import CountVectorizer\n",
    "from sklearn.model_selection import train_test_split, cross_val_score\n",
    "from sklearn.linear_model import LogisticRegression\n",
    "from sklearn.metrics import classification_report\n",
    "from sklearn.model_selection import GridSearchCV"
   ]
  },
  {
   "cell_type": "markdown",
   "metadata": {},
   "source": [
    "Machine learning models finds statistical relations, therefore the data is tokenized and vectorized as part of the data preprocessing step."
   ]
  },
  {
   "cell_type": "code",
   "execution_count": null,
   "metadata": {
    "ExecuteTime": {
     "start_time": "2021-03-28T06:28:27.939Z"
    }
   },
   "outputs": [],
   "source": [
    "# Lemmatization is the algorithmic process of determining the lemma of a word based on its intended\n",
    "# meaning. For example, in English, the verb “to walk” may appear as “walk,” “walked,” “walks,” or\n",
    "# “walking.” The base form, “walk,” that one might look up in a dictionary, is called the lemma for\n",
    "# the word.\n",
    "\n",
    "# Tokenization is one of the simple yet basic concepts of natural language processing where texts are\n",
    "# splitted into meaningful segments.\n",
    "\n",
    "# Data vectorization deals with the turning of data into tensors. All inputs and targets in a machine\n",
    "# learning model must be tensors of floating-point data (or, in specific cases, tensors of integers)."
   ]
  },
  {
   "cell_type": "code",
   "execution_count": null,
   "metadata": {
    "ExecuteTime": {
     "start_time": "2021-03-28T06:28:27.940Z"
    }
   },
   "outputs": [],
   "source": [
    "\"\"\"\n",
    "On the covid df, tokenize the text an put it into the 'Corpus' column\n",
    "\"\"\"\n",
    "covid['Corpus'] = [nltk.word_tokenize(text) for text in covid.OriginalTweet]\n",
    "\n",
    "\"\"\"\n",
    "Lemmatize the corpus column \n",
    "\"\"\"\n",
    "lemma = nltk.WordNetLemmatizer()\n",
    "covid.Corpus = covid.apply(\n",
    "    lambda x: [lemma.lemmatize(word) for word in x.Corpus], axis=1)\n",
    "covid.Corpus = covid.apply(lambda x: \" \".join(x.Corpus), axis=1)"
   ]
  },
  {
   "cell_type": "code",
   "execution_count": null,
   "metadata": {
    "ExecuteTime": {
     "start_time": "2021-03-28T06:28:27.940Z"
    }
   },
   "outputs": [],
   "source": [
    "\"\"\"\n",
    "Show first 5 of the covid DF\n",
    "\"\"\"\n",
    "covid.head()"
   ]
  },
  {
   "cell_type": "markdown",
   "metadata": {},
   "source": [
    "The data sets are splitted back into training and test set"
   ]
  },
  {
   "cell_type": "code",
   "execution_count": null,
   "metadata": {
    "ExecuteTime": {
     "start_time": "2021-03-28T06:28:27.942Z"
    }
   },
   "outputs": [],
   "source": [
    "\"\"\"\n",
    "Remake the training and testing dataset where the 'Identity' column has 0 or 1 respectively\n",
    "\"\"\"\n",
    "train = covid[covid.Identity == 0]\n",
    "test = covid[covid.Identity == 1]\n",
    "\n",
    "\"\"\"\n",
    "Drop the 'Identity' column in both datasets and reset the indices for the testing dataset\n",
    "\"\"\"\n",
    "train.drop('Identity', axis=1, inplace=True)\n",
    "test.drop('Identity', axis=1, inplace=True)\n",
    "test.reset_index(drop=True, inplace=True)"
   ]
  },
  {
   "cell_type": "code",
   "execution_count": null,
   "metadata": {
    "ExecuteTime": {
     "start_time": "2021-03-28T06:28:27.943Z"
    }
   },
   "outputs": [],
   "source": [
    "\"\"\"\n",
    "Show first 5 of the training DF\n",
    "\"\"\"\n",
    "train.head()"
   ]
  },
  {
   "cell_type": "code",
   "execution_count": null,
   "metadata": {
    "ExecuteTime": {
     "start_time": "2021-03-28T06:28:27.943Z"
    }
   },
   "outputs": [],
   "source": [
    "\"\"\"\n",
    "Show first 5 of the testing DF\n",
    "\"\"\"\n",
    "test.head()"
   ]
  },
  {
   "cell_type": "markdown",
   "metadata": {},
   "source": [
    "The train set is splitted to get a validation set."
   ]
  },
  {
   "cell_type": "code",
   "execution_count": null,
   "metadata": {
    "ExecuteTime": {
     "start_time": "2021-03-28T06:28:27.945Z"
    }
   },
   "outputs": [],
   "source": [
    "\"\"\"\n",
    "For the training and testing DataFrames, make DataFrames of what is the input ('Corpus' column) and what is the ouput ('Sentiment' column) \n",
    "\"\"\"\n",
    "\n",
    "XTrain = train.Corpus\n",
    "yTrain = train.Sentiment\n",
    "\n",
    "XTest = test.Corpus\n",
    "yTest = test.Sentiment\n",
    "\n",
    "\n",
    "\"\"\"\n",
    "Split the training dataset (will overwrite old XTrain and yTrain) \n",
    "\"\"\"\n",
    "XTrain, XVal, yTrain, yVal = train_test_split(\n",
    "    XTrain, yTrain, test_size=0.2, random_state=42)"
   ]
  },
  {
   "cell_type": "code",
   "execution_count": null,
   "metadata": {
    "ExecuteTime": {
     "start_time": "2021-03-28T06:28:27.946Z"
    }
   },
   "outputs": [],
   "source": [
    "\"\"\"\n",
    "Show amount of data for each df\n",
    "\"\"\"\n",
    "XTrain.shape, XVal.shape, yTrain.shape, yVal.shape, XTest.shape, yTest.shape"
   ]
  },
  {
   "cell_type": "code",
   "execution_count": null,
   "metadata": {
    "ExecuteTime": {
     "start_time": "2021-03-28T06:28:27.947Z"
    }
   },
   "outputs": [],
   "source": [
    "\"\"\"\n",
    "Create a CountVectorizer object and vectorize XTrain, XVal, and XTest\n",
    "\"\"\"\n",
    "vectorizer = CountVectorizer(\n",
    "    stop_words='english', ngram_range=(1, 2), min_df=5).fit(covid.Corpus)\n",
    "\n",
    "XTrainVec = vectorizer.transform(XTrain)\n",
    "XValVec = vectorizer.transform(XVal)\n",
    "XTestVec = vectorizer.transform(XTest)"
   ]
  },
  {
   "cell_type": "markdown",
   "metadata": {},
   "source": [
    "Logistic Regression Performance"
   ]
  },
  {
   "cell_type": "code",
   "execution_count": null,
   "metadata": {
    "ExecuteTime": {
     "start_time": "2021-03-28T06:28:27.948Z"
    }
   },
   "outputs": [],
   "source": [
    "# Logistic Regression (also called Logit Regression) is commonly used to estimate the probability\n",
    "# that an instance belongs to a particular class (e.g., what is the probability that this email is\n",
    "# spam?). If the estimated probability is greater than 50%, then the model predicts that the instance\n",
    "# belongs to that class (called the positive class, labeled “1”), or else it predicts that it does\n",
    "# not (i.e., it belongs to the negative class, labeled “0”).\n",
    "\n",
    "# A Logistic Regression model computes a weighted sum of the input features (plus a bias term), but\n",
    "# instead of outputting the result directly like the Linear Regression model does, it outputs the\n",
    "# logistic of this result.\n",
    "# p = hθ x = σ xTθ\n",
    "# The logistic—noted σ(·)—is a sigmoid function (i.e., S-shaped) that outputs a number\n",
    "# between 0 and 1."
   ]
  },
  {
   "cell_type": "code",
   "execution_count": null,
   "metadata": {
    "ExecuteTime": {
     "start_time": "2021-03-28T06:28:27.949Z"
    }
   },
   "outputs": [],
   "source": [
    "\"\"\"\n",
    "Create a LogisticRegression object\n",
    "\n",
    "\"\"\"\n",
    "# solver='liblinear' fixes the decoding error\n",
    "# logReg = LogisticRegression(random_state=42, solver='liblinear')\n",
    "logReg = LogisticRegression(random_state=42)"
   ]
  },
  {
   "cell_type": "code",
   "execution_count": null,
   "metadata": {
    "ExecuteTime": {
     "start_time": "2021-03-28T06:28:27.950Z"
    }
   },
   "outputs": [],
   "source": [
    "# Cross-validation makes it possible to get not only an estimate of the performance of models,\n",
    "# but also a measure of how precise this estimate is (i.e., its standard deviation). But cross-\n",
    "# validation comes at the cost of training models several times, so it is not always possible."
   ]
  },
  {
   "cell_type": "code",
   "execution_count": null,
   "metadata": {
    "ExecuteTime": {
     "start_time": "2021-03-28T06:28:27.951Z"
    }
   },
   "outputs": [],
   "source": [
    "# solver='liblinear' fixes the decoding error\n",
    "# cross_val_score(LogisticRegression(random_state=42, solver='liblinear'),\n",
    "#                 XTrainVec, yTrain, cv=10, verbose=1, n_jobs=-1).mean()\n",
    "\n",
    "\"\"\"\n",
    "Get the score of the LogisticRegression model to see how well it performs with a portion of XTrainVec to get a portion of yTrain\n",
    "\n",
    "Notes:\n",
    "    Use 10 fold cross validation (10 splits) to split the data into a training and testing dataset \n",
    "    then run the model to see how will it performed (10 times).\n",
    "    Take the average of how well it performed at classifying the data.\n",
    "\n",
    "\"\"\"\n",
    "\n",
    "cross_val_score(LogisticRegression(random_state=42),\n",
    "                XTrainVec, yTrain, cv=10, verbose=1, n_jobs=-1).mean()"
   ]
  },
  {
   "cell_type": "code",
   "execution_count": null,
   "metadata": {
    "ExecuteTime": {
     "start_time": "2021-03-28T06:28:27.952Z"
    }
   },
   "outputs": [],
   "source": [
    "\"\"\"\n",
    "Create a model using LogisticRegression Trained on XTrainVec and yTrain  \n",
    "\"\"\"\n",
    "model = logReg.fit(XTrainVec, yTrain)"
   ]
  },
  {
   "cell_type": "code",
   "execution_count": null,
   "metadata": {
    "ExecuteTime": {
     "start_time": "2021-03-28T06:28:27.952Z"
    }
   },
   "outputs": [],
   "source": [
    "\"\"\"\n",
    "Print how well the model did in predicting yVal given XValVec\n",
    "\"\"\"\n",
    "print(classification_report(yVal, model.predict(XValVec)))"
   ]
  },
  {
   "cell_type": "markdown",
   "metadata": {},
   "source": [
    "Fine Tuning the Logistic Regression Model\n",
    "\n",
    "A great way to do this is by 'Grid Searching' which involves the fiddling with the hyperparameters until a great combination of hyperparameter values is discovered. It can be done simply by using Scikit-Learn’s GridSearchCV. All that's needed is tell it which hyperparameters you want it to experiment with, and what values to try out, and it will evaluate all the possible combinations of hyperparameter values, using cross-validation."
   ]
  },
  {
   "cell_type": "code",
   "execution_count": null,
   "metadata": {
    "ExecuteTime": {
     "start_time": "2021-03-28T06:28:27.954Z"
    }
   },
   "outputs": [],
   "source": [
    "\"\"\"\n",
    "Setup the hyperparameters (paramters to 'guess' parameters for tuning the model)\n",
    "\"\"\"\n",
    "penalty = ['l2']\n",
    "C = np.logspace(0, 4, 10)  # An arrry evenly spaced from 0 to 4 in log space with 10 samples\n",
    "hyperparameters = dict(C=C, penalty=penalty)\n",
    "\n",
    "\"\"\"\n",
    "Use grid search cross validation to fine tune the given model logReg\n",
    "\"\"\"\n",
    "logRegGrid = GridSearchCV(logReg, hyperparameters, cv=5, verbose=0)"
   ]
  },
  {
   "cell_type": "code",
   "execution_count": null,
   "metadata": {
    "ExecuteTime": {
     "start_time": "2021-03-28T06:28:27.955Z"
    }
   },
   "outputs": [],
   "source": [
    "\"\"\"\n",
    "Train the \"going to be fine tuned empty model of logReg\" called logRegGrid with XTrainVec, yTrain\n",
    "\"\"\"\n",
    "bestModel = logRegGrid.fit(XTrainVec, yTrain)"
   ]
  },
  {
   "cell_type": "code",
   "execution_count": null,
   "metadata": {
    "ExecuteTime": {
     "start_time": "2021-03-28T06:28:27.956Z"
    }
   },
   "outputs": [],
   "source": [
    "# Best hyperparameters combination\n",
    "\n",
    "\"\"\"\n",
    "Print the best combination of hyperparameters to tune the model\n",
    "\n",
    "\"\"\"\n",
    "\n",
    "print('Best Penalty:', bestModel.best_estimator_.get_params()['penalty'])\n",
    "print('Best C:', bestModel.best_estimator_.get_params()['C'])"
   ]
  },
  {
   "cell_type": "code",
   "execution_count": null,
   "metadata": {
    "ExecuteTime": {
     "start_time": "2021-03-28T06:28:27.957Z"
    }
   },
   "outputs": [],
   "source": [
    "# Final Logistic Regression model performance\n",
    "\n",
    "\"\"\"\n",
    "Run the fine tuned model on XTestVec to get yPred\n",
    "\"\"\"\n",
    "yPred = bestModel.predict(XTestVec)"
   ]
  },
  {
   "cell_type": "code",
   "execution_count": null,
   "metadata": {
    "ExecuteTime": {
     "start_time": "2021-03-28T06:28:27.958Z"
    }
   },
   "outputs": [],
   "source": [
    "\"\"\"\n",
    "Compare yPred to yTest\n",
    "\"\"\"\n",
    "print(classification_report(yTest, yPred))"
   ]
  },
  {
   "cell_type": "code",
   "execution_count": null,
   "metadata": {
    "ExecuteTime": {
     "start_time": "2021-03-28T06:28:27.959Z"
    }
   },
   "outputs": [],
   "source": [
    "# Precision deals with the accuracy of the positive predictions.\n",
    "# precision = TP / TP + FP\n",
    "# TP is the number of true positives, and FP is the number of false positives.\n",
    "\n",
    "# Recall, also called sensitivity or true positive rate (TPR) is the ratio of positive instances that\n",
    "# are correctly detected by the classifier.\n",
    "# recall = TP / TP + FN\n",
    "# TP is the number of true positives FP is the number of false positives and FN is the number of\n",
    "# false negatives.\n",
    "\n",
    "# But the metric of choice to measure the performance of the logistic regression model in this\n",
    "# project is the F1-score.The F1 score is the harmonic mean of precision and recall.\n",
    "# Whereas the regular mean treats all values equally, the harmonic mean gives much more weight to low\n",
    "# values. As a result, the classifier will only get a high F1 score if both recall and precision are\n",
    "# high."
   ]
  },
  {
   "cell_type": "code",
   "execution_count": null,
   "metadata": {
    "ExecuteTime": {
     "start_time": "2021-03-28T06:28:27.960Z"
    }
   },
   "outputs": [],
   "source": [
    "# A less concise metric also available is the confusion matrix. The general idea involves counting\n",
    "# the number of times instances of class A are classified as class B.\n",
    "\n",
    "#  Implementation:\n",
    "\n",
    "# from sklearn.metrics import confusion_matrix\n",
    "# from sklearn.model_selection import cross_val_predict\n",
    "\n",
    "# yPred = bestModel.predict(XTestVec)\n",
    "# print(confusion_matrix(yTest, yPred))\n",
    "\n",
    "# NB: it's possible that classification metrics wont't be able to handle a mix of multilabel-indicator\n",
    "# and multiclass targets."
   ]
  },
  {
   "cell_type": "markdown",
   "metadata": {},
   "source": [
    "### LONG SHORT TERM MEMORY (LSTM) MODEL"
   ]
  },
  {
   "cell_type": "markdown",
   "metadata": {},
   "source": [
    "The underlying Long Short-Term Memory (LSTM) algorithm was developed by Hochreiter and Schmidhuber\n",
    "in 1997; it was the culmination of their research on the vanishing gradient problem. This layer is a variant of the SimpleRNN layer; it adds a way to carry information across many timesteps. Imagine a conveyor belt running parallel to the sequence you’re processing. Information from the sequence can jump onto the conveyor belt at any point, be transported to a later timestep, and jump off, intact,\n",
    "when you need it. This is essentially what LSTM does: it saves information for later, thus preventing older signals from gradually vanishing during processing (Francois Chollet, Deep Learning with Python)."
   ]
  },
  {
   "cell_type": "markdown",
   "metadata": {},
   "source": [
    "Libraries and Frame Works Needed for Further Data Processing, Building a LSTM Model and it's Evaluation"
   ]
  },
  {
   "cell_type": "code",
   "execution_count": null,
   "metadata": {
    "ExecuteTime": {
     "start_time": "2021-03-28T06:28:27.962Z"
    }
   },
   "outputs": [],
   "source": [
    "from tensorflow import keras\n",
    "from tensorflow.keras.preprocessing.text import Tokenizer\n",
    "from tensorflow.keras.preprocessing.sequence import pad_sequences\n",
    "from tensorflow.keras.layers import Embedding, Dropout\n",
    "from tensorflow.keras import models, layers\n",
    "from tensorflow.keras.callbacks import EarlyStopping\n",
    "from tensorflow.keras.utils import to_categorical\n"
   ]
  },
  {
   "cell_type": "code",
   "execution_count": null,
   "metadata": {
    "ExecuteTime": {
     "start_time": "2021-03-28T06:28:27.962Z"
    }
   },
   "outputs": [],
   "source": [
    "lines = []\n",
    "for line in train['Corpus']:\n",
    "    lines.append(line)\n",
    "\n",
    "len(lines)"
   ]
  },
  {
   "cell_type": "code",
   "execution_count": null,
   "metadata": {
    "ExecuteTime": {
     "start_time": "2021-03-28T06:28:27.963Z"
    }
   },
   "outputs": [],
   "source": [
    "# Number of words to consider as features\n",
    "tokenizer = Tokenizer(num_words=5000, lower=True)\n",
    "tokenizer.fit_on_texts(train['Corpus'].values)\n",
    "wordIndex = len(tokenizer.word_index) + 1\n",
    "print('Found %s unique tokens.' % (wordIndex))"
   ]
  },
  {
   "cell_type": "code",
   "execution_count": null,
   "metadata": {
    "ExecuteTime": {
     "start_time": "2021-03-28T06:28:27.964Z"
    }
   },
   "outputs": [],
   "source": [
    "# Turns the lists of integers into a 2D integer tensor of shape (numWords, maxlen)\n",
    "XTrain = tokenizer.texts_to_sequences(train['Corpus'].values)\n",
    "# Cuts off the texts after this number of words\n",
    "XTrain = pad_sequences(XTrain, maxlen=30)\n",
    "\n",
    "XTest = tokenizer.texts_to_sequences(test['Corpus'].values)\n",
    "XTest = pad_sequences(XTest, maxlen=30)"
   ]
  },
  {
   "cell_type": "code",
   "execution_count": null,
   "metadata": {
    "ExecuteTime": {
     "start_time": "2021-03-28T06:28:27.965Z"
    }
   },
   "outputs": [],
   "source": [
    "# The tokenizer selects the most common 5000 words. The sequences are padded so that they all have\n",
    "# a uniform length of 30."
   ]
  },
  {
   "cell_type": "code",
   "execution_count": null,
   "metadata": {
    "ExecuteTime": {
     "start_time": "2021-03-28T06:28:27.966Z"
    }
   },
   "outputs": [],
   "source": [
    "XTrain.shape, XTest.shape"
   ]
  },
  {
   "cell_type": "code",
   "execution_count": null,
   "metadata": {
    "ExecuteTime": {
     "start_time": "2021-03-28T06:28:27.967Z"
    }
   },
   "outputs": [],
   "source": [
    "yTrain = to_categorical(train['Sentiment'], 3)\n",
    "yTest = to_categorical(test['Sentiment'], 3)"
   ]
  },
  {
   "cell_type": "markdown",
   "metadata": {},
   "source": [
    "NEURAL NETWORK"
   ]
  },
  {
   "cell_type": "markdown",
   "metadata": {},
   "source": [
    "The neural network consists of one embedding layer followed by one LSTM layer with 200 units. A Dropout layer is added for regularizatin to prevent overfitting of the model. The neural architecture ends with a Dense layer having three units to generate the output or prediction classes. The activation used is softmax since it is a single label, multi class problem."
   ]
  },
  {
   "cell_type": "markdown",
   "metadata": {},
   "source": [
    "A prominent or distinguishing feature in this neural construct is the Embedding layer. The Embedding layer is best understood as a dictionary that maps integer indices (which stand for specific words) to dense vectors. It takes integers as input, it looks up these integers in an internal dictionary, and it returns the associated vectors. It’s effectively a dictionary lookup."
   ]
  },
  {
   "cell_type": "code",
   "execution_count": null,
   "metadata": {
    "ExecuteTime": {
     "start_time": "2021-03-28T06:28:27.969Z"
    }
   },
   "outputs": [],
   "source": [
    "model = models.Sequential()\n",
    "model.add(layers.Embedding(wordIndex, 128, input_length=1000))\n",
    "model.add(layers.LSTM(200))\n",
    "model.add(Dropout(0.2))\n",
    "model.add(layers.Dense(3, activation='softmax'))"
   ]
  },
  {
   "cell_type": "code",
   "execution_count": null,
   "metadata": {
    "ExecuteTime": {
     "start_time": "2021-03-28T06:28:27.970Z"
    }
   },
   "outputs": [],
   "source": [
    "model.summary()"
   ]
  },
  {
   "cell_type": "code",
   "execution_count": null,
   "metadata": {
    "ExecuteTime": {
     "start_time": "2021-03-28T06:28:27.971Z"
    }
   },
   "outputs": [],
   "source": [
    "model.compile(loss='categorical_crossentropy', optimizer=keras.optimizers.RMSprop(lr=0.01),\n",
    "              metrics=['accuracy'])"
   ]
  },
  {
   "cell_type": "code",
   "execution_count": null,
   "metadata": {
    "ExecuteTime": {
     "start_time": "2021-03-28T06:28:27.972Z"
    }
   },
   "outputs": [],
   "source": [
    "# The callbacks parameter implemented monitors the validation loss and stops the training process\n",
    "# once there is no apparent improvement for 10 epochs. It will also restore the best version of the\n",
    "# model recorded during training."
   ]
  },
  {
   "cell_type": "code",
   "execution_count": null,
   "metadata": {
    "ExecuteTime": {
     "start_time": "2021-03-28T06:28:27.973Z"
    }
   },
   "outputs": [],
   "source": [
    "XTrain"
   ]
  },
  {
   "cell_type": "code",
   "execution_count": null,
   "metadata": {
    "ExecuteTime": {
     "start_time": "2021-03-28T06:28:27.973Z"
    }
   },
   "outputs": [],
   "source": [
    "yTrain"
   ]
  },
  {
   "cell_type": "code",
   "execution_count": null,
   "metadata": {
    "ExecuteTime": {
     "start_time": "2021-03-28T04:30:49.637Z"
    }
   },
   "outputs": [
    {
     "name": "stdout",
     "output_type": "stream",
     "text": [
      "Epoch 1/100\n",
      "WARNING:tensorflow:Model was constructed with shape (None, 1000) for input Tensor(\"embedding_input:0\", shape=(None, 1000), dtype=float32), but it was called on an input with incompatible shape (None, 30).\n",
      "WARNING:tensorflow:Model was constructed with shape (None, 1000) for input Tensor(\"embedding_input:0\", shape=(None, 1000), dtype=float32), but it was called on an input with incompatible shape (None, 30).\n",
      "  3/132 [..............................] - ETA: 11s - loss: 1.8232 - accuracy: 0.3267"
     ]
    }
   ],
   "source": [
    "history = model.fit(XTrain, yTrain, batch_size=250, epochs=100, validation_split=0.2,\n",
    "                    callbacks=[EarlyStopping(monitor='val_loss', patience=10, restore_best_weights=True)])"
   ]
  },
  {
   "cell_type": "markdown",
   "metadata": {},
   "source": [
    "Visualizing the Loss/Accuracy of the Model In-Between Epochs"
   ]
  },
  {
   "cell_type": "code",
   "execution_count": null,
   "metadata": {
    "ExecuteTime": {
     "start_time": "2021-03-28T04:30:49.639Z"
    }
   },
   "outputs": [],
   "source": [
    "accuracy = history.history['accuracy']\n",
    "valAccuracy = history.history['val_accuracy']\n",
    "loss = history.history['loss']\n",
    "valLoss = history.history['val_loss']\n",
    "epochs = range(1, len(accuracy) + 1)\n",
    "\n",
    "plt.style.use('ggplot')\n",
    "fig, (ax1, ax2) = plt.subplots(nrows=2, ncols=1, figsize=(10, 10))\n",
    "plot = ax1.plot(epochs, accuracy, 'bo', label='Training Accuracy')\n",
    "ax1.plot(epochs, valAccuracy, 'b', label='Validation Accuracy')\n",
    "ax1.set(title='Training/Validation Accuracy', ylabel='Accuracy')\n",
    "ax1.legend()\n",
    "\n",
    "plot = ax2.plot(epochs, loss, 'bo', label='Training Loss')\n",
    "ax2.plot(epochs, valLoss, 'b', label='Validation Loss')\n",
    "ax2.set(title='Training/Validation Loss', ylabel='Loss', xlabel='Epochs')\n",
    "ax2.legend()\n",
    "\n",
    "fig.suptitle('Loss/Accuracy of the LSTM Sentiment Classifier',\n",
    "             fontsize=16, fontweight='bold')"
   ]
  },
  {
   "cell_type": "code",
   "execution_count": null,
   "metadata": {
    "ExecuteTime": {
     "start_time": "2021-03-28T04:30:49.640Z"
    }
   },
   "outputs": [],
   "source": [
    "# The model still overfits: In the absence of more data, the overfitting being experienced can probably be\n",
    "# minimized by reducing the number of layers or by reducing the number of units used in the neural\n",
    "# architecture. The Dropout can also be increased. Weight regularization via the keras\n",
    "# kernel_regularizer can also be implemented."
   ]
  },
  {
   "cell_type": "code",
   "execution_count": null,
   "metadata": {
    "ExecuteTime": {
     "start_time": "2021-03-28T04:30:49.641Z"
    }
   },
   "outputs": [],
   "source": [
    "results = model.evaluate(XTest, yTest)"
   ]
  },
  {
   "cell_type": "code",
   "execution_count": null,
   "metadata": {
    "ExecuteTime": {
     "start_time": "2021-03-28T04:30:49.642Z"
    }
   },
   "outputs": [],
   "source": [
    "print(classification_report(np.argmax(yTest, 1), model.predict_classes(XTest)))"
   ]
  },
  {
   "cell_type": "code",
   "execution_count": null,
   "metadata": {
    "ExecuteTime": {
     "start_time": "2021-03-28T04:30:49.642Z"
    }
   },
   "outputs": [],
   "source": [
    "# A test accuracy score of 0.84 gives a much improved performance compared to the Logistic Regression\n",
    "# algorithm. A normal slight drop from the 0.87 recorded during validation evaluation."
   ]
  },
  {
   "cell_type": "code",
   "execution_count": null,
   "metadata": {
    "ExecuteTime": {
     "start_time": "2021-03-28T04:30:49.643Z"
    }
   },
   "outputs": [],
   "source": [
    "model.save('./LSTM classifier.h5')\n",
    "keras.models.load_model('./LSTM classifier.h5')"
   ]
  }
 ],
 "metadata": {
  "kernelspec": {
   "display_name": "Python 3.8.5 64-bit Anaconda (Only works with Anaconda's Jupyter)",
   "language": "python",
   "name": "python_3.8.5_64-bit_anaconda"
  },
  "language_info": {
   "codemirror_mode": {
    "name": "ipython",
    "version": 3
   },
   "file_extension": ".py",
   "mimetype": "text/x-python",
   "name": "python",
   "nbconvert_exporter": "python",
   "pygments_lexer": "ipython3",
   "version": "3.8.5"
  },
  "varInspector": {
   "cols": {
    "lenName": 16,
    "lenType": 16,
    "lenVar": 40
   },
   "kernels_config": {
    "python": {
     "delete_cmd_postfix": "",
     "delete_cmd_prefix": "del ",
     "library": "var_list.py",
     "varRefreshCmd": "print(var_dic_list())"
    },
    "r": {
     "delete_cmd_postfix": ") ",
     "delete_cmd_prefix": "rm(",
     "library": "var_list.r",
     "varRefreshCmd": "cat(var_dic_list()) "
    }
   },
   "types_to_exclude": [
    "module",
    "function",
    "builtin_function_or_method",
    "instance",
    "_Feature"
   ],
   "window_display": false
  }
 },
 "nbformat": 4,
 "nbformat_minor": 4
}
